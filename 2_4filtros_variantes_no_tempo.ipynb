{
 "cells": [
  {
   "attachments": {},
   "cell_type": "markdown",
   "metadata": {},
   "source": [
    "## 2.4 Filtros variantes no tempo\n",
    "\n",
    "#### Filtro wah"
   ]
  },
  {
   "cell_type": "code",
   "execution_count": 1,
   "metadata": {},
   "outputs": [
    {
     "data": {
      "application/vnd.jupyter.widget-view+json": {
       "model_id": "497690cc857846b9b21e1cf62e7f22c8",
       "version_major": 2,
       "version_minor": 0
      },
      "text/plain": [
       "Text(value='piano.wav', continuous_update=False, description='File name')"
      ]
     },
     "metadata": {},
     "output_type": "display_data"
    },
    {
     "data": {
      "application/vnd.jupyter.widget-view+json": {
       "model_id": "771e9b72ae16466cbdf4897a4b489584",
       "version_major": 2,
       "version_minor": 0
      },
      "text/plain": [
       "Text(value='300', continuous_update=False, description='Cutoff frequency')"
      ]
     },
     "metadata": {},
     "output_type": "display_data"
    },
    {
     "data": {
      "application/vnd.jupyter.widget-view+json": {
       "model_id": "6318370fc3fa44c6ae7e1d8959c953d9",
       "version_major": 2,
       "version_minor": 0
      },
      "text/plain": [
       "Text(value='5000', continuous_update=False, description='Cutoff frequency')"
      ]
     },
     "metadata": {},
     "output_type": "display_data"
    },
    {
     "data": {
      "application/vnd.jupyter.widget-view+json": {
       "model_id": "d91dc455db68462f871a2a0c8cbf6737",
       "version_major": 2,
       "version_minor": 0
      },
      "text/plain": [
       "Text(value='0.05', continuous_update=False, description='Damping')"
      ]
     },
     "metadata": {},
     "output_type": "display_data"
    },
    {
     "data": {
      "application/vnd.jupyter.widget-view+json": {
       "model_id": "1d4bd8df1e8e4b52ab2b24d9ca51ed17",
       "version_major": 2,
       "version_minor": 0
      },
      "text/plain": [
       "Text(value='2000', continuous_update=False, description='Center frequency')"
      ]
     },
     "metadata": {},
     "output_type": "display_data"
    },
    {
     "data": {
      "application/vnd.jupyter.widget-view+json": {
       "model_id": "9043ab6dd2c84d4c8d9f25ebb15d19d7",
       "version_major": 2,
       "version_minor": 0
      },
      "text/plain": [
       "HBox(children=(VBox(children=(Output(), Output()), layout=Layout(align_items='center', display='flex', flex_fl…"
      ]
     },
     "metadata": {},
     "output_type": "display_data"
    }
   ],
   "source": [
    "%run -i widgets.ipynb\n",
    "%run -i 2_1introducao.ipynb\n",
    "from math import tan, pi, cos, sin\n",
    "\n",
    "def wah_filter(damp,minf,maxf,file_name,Fw):\n",
    "    Fs, x = read_audio_file(file_name)\n",
    "    Q1 = 2*damp\n",
    "    Fc = minf\n",
    "    F1 = 2*sin((pi*Fc)/Fs)\n",
    "    y = [0] * len(x) \n",
    "    y[0] = F1*x[0]\n",
    "    y0 = F1*y[0]\n",
    "    yaux = y[1]\n",
    "    delta = Fw/Fs\n",
    "    for n in range(len(x)):\n",
    "        if n != 0:\n",
    "            if Fc + delta > maxf or Fc + delta < minf:\n",
    "                delta =  -delta\n",
    "            Fc = Fc + delta;\n",
    "            F1 = 2*sin((pi*Fc)/Fs)\n",
    "            yh = x[n]-y0-Q1*yaux\n",
    "            y[n] = F1*yh+yaux\n",
    "            y0=F1*y[n]+y0\n",
    "            yaux=y[n]\n",
    "    maxy = max(np.abs(y))\n",
    "    y = y/maxy;\n",
    "\n",
    "    w, h = freqz(y, x, fs=44100)\n",
    "\n",
    "    plot_filter(0, Fs, w, h)\n",
    "   \n",
    "    write_audio_file(y, Fs, 'output_file_wah.wav')\n",
    "    plot_signal(x, Fs, 'Sinal de Entrada')\n",
    "    plot_signal(y, Fs, 'Sinal de Saída')\n",
    " \n",
    "\n",
    "    display_audio(file_name, 'output_file_wah.wav')\n",
    "    return y\n",
    "   \n",
    "\n",
    "\n",
    "# Carregar o arquivo de áudio\n",
    "\n",
    "damp = 0.05\n",
    "# Aplicar o efeito wah-wah\n",
    "min_freq = 300  # Frequência mínima do filtro wah-wah (Hz)\n",
    "max_freq = 5000  # Frequência máxima do filtro wah-wah (Hz)\n",
    "# wah frequency, how many Hz per second are cycled through\n",
    "Fw = 2000\n",
    "\n",
    "\n",
    "\n",
    "# Salvar o arquivo de áudio com o efeito wah-wah aplicado\n",
    "clear_output()\n",
    "out1.clear_output()\n",
    "out2.clear_output()\n",
    "out3.clear_output()\n",
    "wahwah_audio = wah_filter(damp, min_freq, max_freq, 'piano.wav', Fw)\n",
    "widgets_wah()\n"
   ]
  }
 ],
 "metadata": {
  "kernelspec": {
   "display_name": "myenv",
   "language": "python",
   "name": "myenv"
  },
  "language_info": {
   "codemirror_mode": {
    "name": "ipython",
    "version": 3
   },
   "file_extension": ".py",
   "mimetype": "text/x-python",
   "name": "python",
   "nbconvert_exporter": "python",
   "pygments_lexer": "ipython3",
   "version": "3.10.1"
  },
  "orig_nbformat": 4
 },
 "nbformat": 4,
 "nbformat_minor": 2
}
