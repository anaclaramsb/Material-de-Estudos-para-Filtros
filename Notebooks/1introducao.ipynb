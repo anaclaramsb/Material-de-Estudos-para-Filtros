{
 "cells": [
  {
   "attachments": {},
   "cell_type": "markdown",
   "metadata": {},
   "source": [
    "# Filtros - introdução\n",
    "\n"
   ]
  },
  {
   "attachments": {},
   "cell_type": "markdown",
   "metadata": {},
   "source": [
    "Bem vindos ao módulo de filtros! \n",
    "\n",
    "***Será que qualquer coisa pode ser um filtro?***\n",
    "Um filtro é qualquer sistema que modifica algumas frequências em detrimento a outras. Em outras palavras, é um sistema que seleciona frequências, onde haverá uma seleção de acordo com as frequências que queremos rejeitar, reter ou enfatizar. Pode-se dizer que todo e qualquer ambiente em que vivemos acaba fazendo isso de alguma forma: seja seu quarto, ou seu banheiro, ou dentro de uma caverna, já reparou que sua voz pode ficar diferente em cada ambiente?\n",
    "\n",
    "Neste material estudaremos melhor como filtros são aplicados no mundo musical de forma interativa. O material constitui de 4 seções além desta introdução, cada uma em um notebook separado:\n",
    "- Classificação de Filtros\n",
    "- Equalizadores\n",
    "- Filtros variantes no tempo (efeito Wah)\n",
    "- Estrutura de delay\n",
    "\n",
    "Cada seção funciona separadamente uma da outra, podendo ser interagida na ordem que desejar! Todo o material é construído em Python utilizando o Jupyter Notebook. \n",
    "\n",
    "Para aproveitar ao máximo o material, siga as instruções do [README](../README.md)!\n",
    "\n",
    "Os widgets sempre estarão disponíveis no final de cada notebook!"
   ]
  },
  {
   "attachments": {},
   "cell_type": "markdown",
   "metadata": {},
   "source": [
    "<span style=\"color:green\">---> Sinta-se livre também para trazer seu áudio, apenas garantindo que este áudio esteja no formato mono e ele esteja na pasta AudioFiles</span> (um áudio mono se refere a um tipo de áudio que é reproduzido através de um único canal de áudio. Isso significa que o som é reproduzido de maneira unidimensional, sem separação espacial entre os canais de áudio esquerdo e direito). Recomendamos porém que seja trazido áudios pequenos (menos de 20 segundos) para facilitar o uso da ferramenta e diminuir o tempo de computação dos códigos."
   ]
  },
  {
   "attachments": {},
   "cell_type": "markdown",
   "metadata": {},
   "source": [
    "### Bibiotecas \n",
    "Vamos começar importando as bibliotecas que utilizaremos nesse módulo. Iremos utilizar as seguintes bibliotecas:\n",
    "\n",
    "- **NumPy**: oferece uma ampla gama de funções e operações que facilitam aos desenvolvedores a execução de cálculos matemáticos e científicos de maneira eficiente. Dentro deste módulo, o NumPy será utilizado para facilitar cálculos entre vetores e matrizes, bem como a geração de vetores nulos e o fácil cálculo de número absolutos.\n",
    "- **SciPy**: fornece algoritmos para otimização, integração, interpolação, problemas de autovalor, equações algébricas, equações diferenciais e estatísticas e muito mais. Nestre módulo, o SciPy será utlizado para aplicação de transformada de fourier discreta, para calcular a resposta em frequência de um filtro digital, para filtrar dados ao longo de uma dimensão com um filtro IIR ou FIR e para projetar um filtro Butterworth.\n",
    "- **IPython**: fornece um conjunto de ferramentas abrangente para ajudá-lo a aproveitar ao máximo a utilização interativa do Python. Aqui usaremos IPython principalmente para a reprodução do áudio original e do áudio modificado pelos filtros.\n",
    "- **Matplotlib**: é uma biblioteca abrangente para criar visualizações estáticas, animadas e interativas em Python. Neste trabalho, serão utilizadas as funções para plotagem dos gráficos relacionados ao filtro, ao áudio de entrada e ao áudio de saída.\n",
    "- **Ipywidgets**: ou Jupyter Widgets são widgets HTML interativos para notebooks Jupyter e o kernel IPython. Não entraremos em muitos detalhes sobre sua implementação, mas todo código está disponível no arquivo  `widgets.ipynb `"
   ]
  },
  {
   "attachments": {},
   "cell_type": "markdown",
   "metadata": {},
   "source": [
    "Para garantir que todas as biliotecas necessárias estão instaladas na sua máquina, rode:"
   ]
  },
  {
   "cell_type": "code",
   "execution_count": 6,
   "metadata": {
    "tags": []
   },
   "outputs": [],
   "source": [
    "import numpy as np\n",
    "from IPython.display import Audio, display\n",
    "import matplotlib.pyplot as plt\n",
    "from scipy.fft import fft, fftfreq\n",
    "from scipy.signal import freqz\n",
    "from scipy.io import wavfile\n",
    "import scipy as scipy\n",
    "import warnings\n",
    "warnings.simplefilter(\"ignore\", category=wavfile.WavFileWarning)\n",
    "%run -i widgets.ipynb\n"
   ]
  },
  {
   "attachments": {},
   "cell_type": "markdown",
   "metadata": {},
   "source": [
    "### Funções \n",
    "Agora, vamos definir funções que serão utilizadas por todos os notebooks!\n",
    "\n",
    "Primeiramente, definiremos abaixo uma função que irá abrir o arquivo do nosso áudio e transformar ele em um sinal convertendo os dados para um array através da função $numpy$. Além disso, coletamos a taxa de amostragem do áudio."
   ]
  },
  {
   "cell_type": "code",
   "execution_count": 7,
   "metadata": {},
   "outputs": [],
   "source": [
    "def read_audio_file(path):\n",
    "    # leitura do arquivo WAV\n",
    "    sample_rate, original_signal = wavfile.read('../audioFiles/' + path)\n",
    "    return sample_rate, original_signal"
   ]
  },
  {
   "attachments": {},
   "cell_type": "markdown",
   "metadata": {},
   "source": [
    "Definiremos também uma função que plotará nossos sinais (de entrada e de saída) no domínio da frequência e no domíninio do tempo.\n",
    "\n",
    "Junto a ela, também definiremos uma função para plotar a resposta em frequência do nosso filtro. Logo em seguida, uma função para mostrar em um player os áudios de entrada e saída. As funções `@out.capture()` são utilizadas pelo widget para capturar suas repostas e apresentar nos dashboards."
   ]
  },
  {
   "cell_type": "code",
   "execution_count": 8,
   "metadata": {},
   "outputs": [],
   "source": [
    "@out1.capture()\n",
    "def plot_signal(data, sample_rate, title):\n",
    "    # domínio do tempo\n",
    "    cm = 1/2.54  # conversão de polegadas para centímetros\n",
    "    plt.figure(figsize=(20*cm, 8*cm))\n",
    "    plt.suptitle(title)\n",
    "\n",
    "    time = np.arange(0, len(data)) / (1 * sample_rate)\n",
    "    plt.subplot(1, 2, 1)\n",
    "    plt.plot(time, data)\n",
    "    plt.xlabel(\"Tempo (s)\")\n",
    "    plt.ylabel(\"Amplitude\")\n",
    "    plt.title(\"Sinal no domínio do tempo\")\n",
    "\n",
    "    # domínio da frequência\n",
    "    plt.subplot(1, 2, 2)\n",
    "    n = len(data)\n",
    "    yf = fft(data)\n",
    "    xf = fftfreq(n, 1 / sample_rate)[: n // 2]\n",
    "    plt.plot(xf, 2.0 / n * np.abs(yf[0 : n // 2]))\n",
    "    plt.xlabel(\"Frequência (Hz)\")\n",
    "    plt.ylabel(\"Amplitude\")\n",
    "    plt.title(\"Sinal no domínio da frequência\")\n",
    "\n",
    "    plt.tight_layout()\n",
    "    plt.ioff()\n",
    "    plt.show()\n",
    "    \n"
   ]
  },
  {
   "cell_type": "code",
   "execution_count": 9,
   "metadata": {},
   "outputs": [],
   "source": [
    "\n",
    "@out2.capture()\n",
    "def plot_filter(cutoff_frequency, sample_rate, w, h):\n",
    "    # plotagem da resposta em frequência\n",
    "    cm = 1/2.54 # conversão de polegadas para centímetros\n",
    "    plt.figure(figsize=(12*cm, 8*cm))\n",
    "    if cutoff_frequency == -1:\n",
    "        plt.plot(w, np.abs(h), \"b\")\n",
    "    else:\n",
    "        plt.plot(w, np.abs(h), \"b\")\n",
    "        plt.axvline(cutoff_frequency, color=\"r\")\n",
    "    plt.xlabel(\"Frequência (Hz)\")\n",
    "    plt.ylabel(\"Amplitude\")\n",
    "    plt.title(\"Resposta em frequência do filtro\")\n",
    "    plt.grid(True)\n",
    "    plt.ioff()\n",
    "    plt.show()\n",
    "    \n",
    "@out3.capture()\n",
    "def display_audio(file_name, output_file_name):\n",
    "    print('Áudio original:')\n",
    "    display(Audio('../AudioFiles/' + file_name))\n",
    "    print('Áudio alterado:')\n",
    "    display(Audio('../AudioFiles/' + output_file_name)) \n"
   ]
  },
  {
   "attachments": {},
   "cell_type": "markdown",
   "metadata": {},
   "source": [
    "Por fim, definiremos uma função para transformar nosso sinal de saída do filtro em um arquivo wav de áudio."
   ]
  },
  {
   "cell_type": "code",
   "execution_count": 10,
   "metadata": {},
   "outputs": [],
   "source": [
    "def write_audio_file(output_signal, sampwidth, name):\n",
    "    filtered_signal = np.int16(output_signal / np.max(np.abs(output_signal)) * 32767)\n",
    "    wavfile.write('../AudioFiles/' + name, sampwidth, filtered_signal)"
   ]
  }
 ],
 "metadata": {
  "kernelspec": {
   "display_name": "Python 3",
   "language": "python",
   "name": "python3"
  },
  "language_info": {
   "codemirror_mode": {
    "name": "ipython",
    "version": 3
   },
   "file_extension": ".py",
   "mimetype": "text/x-python",
   "name": "python",
   "nbconvert_exporter": "python",
   "pygments_lexer": "ipython3",
   "version": "3.10.8"
  },
  "orig_nbformat": 4
 },
 "nbformat": 4,
 "nbformat_minor": 2
}
