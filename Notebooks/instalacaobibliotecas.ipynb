{
 "cells": [
  {
   "cell_type": "code",
   "execution_count": 2,
   "metadata": {},
   "outputs": [
    {
     "name": "stdout",
     "output_type": "stream",
     "text": [
      "Requirement already satisfied: numpy in c:\\users\\teste1\\appdata\\local\\programs\\python\\python311\\lib\\site-packages (1.25.0)\n",
      "Note: you may need to restart the kernel to use updated packages.\n",
      "Collecting matplotlib\n",
      "  Downloading matplotlib-3.7.1-cp311-cp311-win_amd64.whl (7.6 MB)\n",
      "                                              0.0/7.6 MB ? eta -:--:--\n",
      "                                              0.0/7.6 MB 991.0 kB/s eta 0:00:08\n",
      "                                              0.1/7.6 MB 1.4 MB/s eta 0:00:06\n",
      "     -                                        0.3/7.6 MB 2.1 MB/s eta 0:00:04\n",
      "     --                                       0.5/7.6 MB 3.2 MB/s eta 0:00:03\n",
      "     ----                                     0.8/7.6 MB 3.8 MB/s eta 0:00:02\n",
      "     -----                                    1.0/7.6 MB 3.8 MB/s eta 0:00:02\n",
      "     ------                                   1.2/7.6 MB 3.9 MB/s eta 0:00:02\n",
      "     --------                                 1.6/7.6 MB 4.5 MB/s eta 0:00:02\n",
      "     ----------                               2.0/7.6 MB 4.8 MB/s eta 0:00:02\n",
      "     -----------                              2.2/7.6 MB 5.1 MB/s eta 0:00:02\n",
      "     -------------                            2.6/7.6 MB 5.3 MB/s eta 0:00:01\n",
      "     ---------------                          3.0/7.6 MB 5.6 MB/s eta 0:00:01\n",
      "     -----------------                        3.3/7.6 MB 5.7 MB/s eta 0:00:01\n",
      "     ------------------                       3.5/7.6 MB 5.9 MB/s eta 0:00:01\n",
      "     ------------------                       3.5/7.6 MB 5.9 MB/s eta 0:00:01\n",
      "     ----------------------                   4.4/7.6 MB 6.2 MB/s eta 0:00:01\n",
      "     ------------------------                 4.7/7.6 MB 6.2 MB/s eta 0:00:01\n",
      "     -------------------------                4.9/7.6 MB 6.3 MB/s eta 0:00:01\n",
      "     ---------------------------              5.2/7.6 MB 6.2 MB/s eta 0:00:01\n",
      "     ----------------------------             5.5/7.6 MB 6.2 MB/s eta 0:00:01\n",
      "     ------------------------------           5.8/7.6 MB 6.3 MB/s eta 0:00:01\n",
      "     -------------------------------          6.1/7.6 MB 6.3 MB/s eta 0:00:01\n",
      "     ---------------------------------        6.4/7.6 MB 6.3 MB/s eta 0:00:01\n",
      "     -----------------------------------      6.7/7.6 MB 6.4 MB/s eta 0:00:01\n",
      "     ------------------------------------     7.0/7.6 MB 6.4 MB/s eta 0:00:01\n",
      "     --------------------------------------   7.3/7.6 MB 6.4 MB/s eta 0:00:01\n",
      "     ---------------------------------------  7.6/7.6 MB 6.5 MB/s eta 0:00:01\n",
      "     ---------------------------------------  7.6/7.6 MB 6.5 MB/s eta 0:00:01\n",
      "     ---------------------------------------- 7.6/7.6 MB 6.2 MB/s eta 0:00:00\n",
      "Collecting contourpy>=1.0.1 (from matplotlib)\n",
      "  Downloading contourpy-1.1.0-cp311-cp311-win_amd64.whl (470 kB)\n",
      "                                              0.0/470.9 kB ? eta -:--:--\n",
      "     ----------------------------          358.4/470.9 kB 10.9 MB/s eta 0:00:01\n",
      "     -------------------------------------- 470.9/470.9 kB 7.3 MB/s eta 0:00:00\n",
      "Collecting cycler>=0.10 (from matplotlib)\n",
      "  Downloading cycler-0.11.0-py3-none-any.whl (6.4 kB)\n",
      "Collecting fonttools>=4.22.0 (from matplotlib)\n",
      "  Downloading fonttools-4.40.0-cp311-cp311-win_amd64.whl (1.9 MB)\n",
      "                                              0.0/1.9 MB ? eta -:--:--\n",
      "     -------                                  0.4/1.9 MB 11.2 MB/s eta 0:00:01\n",
      "     ---------------                          0.8/1.9 MB 8.1 MB/s eta 0:00:01\n",
      "     ----------------------                   1.1/1.9 MB 7.8 MB/s eta 0:00:01\n",
      "     -----------------------------            1.4/1.9 MB 7.6 MB/s eta 0:00:01\n",
      "     ------------------------------------     1.8/1.9 MB 7.4 MB/s eta 0:00:01\n",
      "     ---------------------------------------- 1.9/1.9 MB 7.3 MB/s eta 0:00:00\n",
      "Collecting kiwisolver>=1.0.1 (from matplotlib)\n",
      "  Downloading kiwisolver-1.4.4-cp311-cp311-win_amd64.whl (55 kB)\n",
      "                                              0.0/55.4 kB ? eta -:--:--\n",
      "     ---------------------------------------- 55.4/55.4 kB ? eta 0:00:00\n",
      "Requirement already satisfied: numpy>=1.20 in c:\\users\\teste1\\appdata\\local\\programs\\python\\python311\\lib\\site-packages (from matplotlib) (1.25.0)\n",
      "Requirement already satisfied: packaging>=20.0 in c:\\users\\teste1\\appdata\\roaming\\python\\python311\\site-packages (from matplotlib) (23.1)\n",
      "Collecting pillow>=6.2.0 (from matplotlib)\n",
      "  Downloading Pillow-9.5.0-cp311-cp311-win_amd64.whl (2.5 MB)\n",
      "                                              0.0/2.5 MB ? eta -:--:--\n",
      "     ------                                   0.4/2.5 MB 13.1 MB/s eta 0:00:01\n",
      "     ------------                             0.8/2.5 MB 9.6 MB/s eta 0:00:01\n",
      "     ----------------                         1.0/2.5 MB 8.1 MB/s eta 0:00:01\n",
      "     ---------------------                    1.3/2.5 MB 8.4 MB/s eta 0:00:01\n",
      "     --------------------------               1.6/2.5 MB 8.1 MB/s eta 0:00:01\n",
      "     ---------------------------              1.8/2.5 MB 7.9 MB/s eta 0:00:01\n",
      "     ------------------------------------     2.3/2.5 MB 7.6 MB/s eta 0:00:01\n",
      "     --------------------------------------   2.4/2.5 MB 6.9 MB/s eta 0:00:01\n",
      "     ---------------------------------------- 2.5/2.5 MB 6.7 MB/s eta 0:00:00\n",
      "Collecting pyparsing>=2.3.1 (from matplotlib)\n",
      "  Downloading pyparsing-3.1.0-py3-none-any.whl (102 kB)\n",
      "                                              0.0/102.6 kB ? eta -:--:--\n",
      "     -------------------------------------- 102.6/102.6 kB 6.2 MB/s eta 0:00:00\n",
      "Requirement already satisfied: python-dateutil>=2.7 in c:\\users\\teste1\\appdata\\roaming\\python\\python311\\site-packages (from matplotlib) (2.8.2)\n",
      "Requirement already satisfied: six>=1.5 in c:\\users\\teste1\\appdata\\roaming\\python\\python311\\site-packages (from python-dateutil>=2.7->matplotlib) (1.16.0)\n",
      "Installing collected packages: pyparsing, pillow, kiwisolver, fonttools, cycler, contourpy, matplotlib\n",
      "Successfully installed contourpy-1.1.0 cycler-0.11.0 fonttools-4.40.0 kiwisolver-1.4.4 matplotlib-3.7.1 pillow-9.5.0 pyparsing-3.1.0\n",
      "Note: you may need to restart the kernel to use updated packages.\n"
     ]
    },
    {
     "name": "stderr",
     "output_type": "stream",
     "text": [
      "  WARNING: The scripts fonttools.exe, pyftmerge.exe, pyftsubset.exe and ttx.exe are installed in 'c:\\Users\\Teste1\\AppData\\Local\\Programs\\Python\\Python311\\Scripts' which is not on PATH.\n",
      "  Consider adding this directory to PATH or, if you prefer to suppress this warning, use --no-warn-script-location.\n"
     ]
    }
   ],
   "source": [
    "%pip install numpy\n",
    "%pip install matplotlib\n",
    "%pip install scipy"
   ]
  }
 ],
 "metadata": {
  "kernelspec": {
   "display_name": "Python 3",
   "language": "python",
   "name": "python3"
  },
  "language_info": {
   "codemirror_mode": {
    "name": "ipython",
    "version": 3
   },
   "file_extension": ".py",
   "mimetype": "text/x-python",
   "name": "python",
   "nbconvert_exporter": "python",
   "pygments_lexer": "ipython3",
   "version": "3.11.4"
  },
  "orig_nbformat": 4
 },
 "nbformat": 4,
 "nbformat_minor": 2
}
