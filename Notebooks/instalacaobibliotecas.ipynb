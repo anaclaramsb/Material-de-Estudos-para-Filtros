{
 "cells": [
  {
   "cell_type": "code",
   "execution_count": null,
   "metadata": {},
   "outputs": [],
   "source": [
    "%pip install numpy\n",
    "%pip install IPython\n",
    "%pip install matplotlib\n",
    "%pip install scipy\n",
    "%pip install ipywidgets"
   ]
  }
 ],
 "metadata": {
  "language_info": {
   "name": "python"
  },
  "orig_nbformat": 4
 },
 "nbformat": 4,
 "nbformat_minor": 2
}
