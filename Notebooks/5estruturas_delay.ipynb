{
 "cells": [
  {
   "attachments": {},
   "cell_type": "markdown",
   "metadata": {},
   "source": [
    "## Estruturas de delay\n",
    "\n",
    "#### FIR comb, IIR comb, universal (?), Natural sounding comb filter(?)"
   ]
  },
  {
   "cell_type": "code",
   "execution_count": 1,
   "metadata": {},
   "outputs": [],
   "source": [
    "%run -i widgets.ipynb\n",
    "%run -i 2_1introducao.ipynb\n",
    "from math import tan, pi, cos, sin\n",
    "\n",
    "def run_filter(file_name, filter_function, gain, delay_length):\n",
    "    # leitura do arquivo WAV\n",
    "    sample_rate, input_signal = read_audio_file(file_name)\n",
    "    # aplicação do filtro\n",
    "    if filter_function == 'fircomb':\n",
    "        filtered_data, w, h = fircomb(input_signal, gain, delay_length)\n",
    "    else:\n",
    "        filtered_data, w, h = iircomb(input_signal, gain, delay_length)\n",
    "\n",
    "    plot_filter(0, sample_rate, w, h)\n",
    "   \n",
    "    write_audio_file(filtered_data, sample_rate, 'output_file_comb.wav')\n",
    "\n",
    "    %matplotlib ipympl\n",
    "    plot_signal(input_signal, sample_rate, 'Sinal de Entrada')\n",
    "    plot_signal(filtered_data, sample_rate, 'Sinal de Saída')\n",
    " \n",
    "\n",
    "    display_audio(file_name, 'output_file_comb.wav')\n"
   ]
  },
  {
   "cell_type": "code",
   "execution_count": 2,
   "metadata": {},
   "outputs": [
    {
     "data": {
      "application/vnd.jupyter.widget-view+json": {
       "model_id": "a0343c16971e456b987e00f45645f3b8",
       "version_major": 2,
       "version_minor": 0
      },
      "text/plain": [
       "Dropdown(description='Filter type:', options=('fircomb', 'iircomb'), value='fircomb')"
      ]
     },
     "metadata": {},
     "output_type": "display_data"
    },
    {
     "data": {
      "application/vnd.jupyter.widget-view+json": {
       "model_id": "c26969a5ec414d8cba18340b331a8bf1",
       "version_major": 2,
       "version_minor": 0
      },
      "text/plain": [
       "Text(value='batida.wav', continuous_update=False, description='Nome do arquivo')"
      ]
     },
     "metadata": {},
     "output_type": "display_data"
    },
    {
     "data": {
      "application/vnd.jupyter.widget-view+json": {
       "model_id": "a1310a02dec04dee9795562bbb2d27a1",
       "version_major": 2,
       "version_minor": 0
      },
      "text/plain": [
       "FloatSlider(value=0.5, continuous_update=False, description='Ganho', max=1.0, min=-1.0)"
      ]
     },
     "metadata": {},
     "output_type": "display_data"
    },
    {
     "data": {
      "application/vnd.jupyter.widget-view+json": {
       "model_id": "8338135ca7394f1fa138558660a97074",
       "version_major": 2,
       "version_minor": 0
      },
      "text/plain": [
       "Text(value='2000', continuous_update=False, description='Tamanho do delay')"
      ]
     },
     "metadata": {},
     "output_type": "display_data"
    },
    {
     "data": {
      "application/vnd.jupyter.widget-view+json": {
       "model_id": "c6f14a52d87142fcb17d51f07d5dae6d",
       "version_major": 2,
       "version_minor": 0
      },
      "text/plain": [
       "Button(button_style='success', description='Atualizar', style=ButtonStyle())"
      ]
     },
     "metadata": {},
     "output_type": "display_data"
    },
    {
     "data": {
      "application/vnd.jupyter.widget-view+json": {
       "model_id": "dbfff699dddf43f9ba00e1dcf8d6b88e",
       "version_major": 2,
       "version_minor": 0
      },
      "text/plain": [
       "HBox(children=(VBox(children=(Output(), Output()), layout=Layout(align_items='center', align_self='center', di…"
      ]
     },
     "metadata": {},
     "output_type": "display_data"
    }
   ],
   "source": [
    "\n",
    "def fircomb(input_signal, gain, delay_length):\n",
    "    y = [0] * len(input_signal)\n",
    "    x = input_signal\n",
    "    g = gain\n",
    "    delay_line = np.zeros(delay_length)\n",
    "    for n in range(len(input_signal)):\n",
    "        y[n] = x[n] + g * delay_line[delay_length - 1]\n",
    "        delay_line[1:] = delay_line[:-1]\n",
    "        delay_line[0] = x[n]\n",
    "    w, h = freqz(y, input_signal, fs=44100)\n",
    "\n",
    "    return y, w, h\n",
    "\n",
    "def iircomb(input_signal, gain, delay_length):\n",
    "    y = [0] * len(input_signal)\n",
    "    x = input_signal\n",
    "    g = gain\n",
    "    delay_line = np.zeros(delay_length)\n",
    "    for n in range(len(input_signal)):\n",
    "        y[n] = x[n] + g * delay_line[delay_length - 1]\n",
    "        delay_line[1:] = delay_line[:-1]\n",
    "        delay_line[0] = y[n]\n",
    "    w, h = freqz(y, input_signal, fs=44100)\n",
    "\n",
    "    return y, w, h\n",
    "    \n",
    "\n",
    "#rodar o filtro\n",
    "clear_output()\n",
    "out1.clear_output()\n",
    "out2.clear_output()\n",
    "out3.clear_output()\n",
    "run_filter('batida.wav', 'fircomb', 0.5, 2000)\n",
    "widgets_delay()"
   ]
  }
 ],
 "metadata": {
  "kernelspec": {
   "display_name": "myenv",
   "language": "python",
   "name": "myenv"
  },
  "language_info": {
   "codemirror_mode": {
    "name": "ipython",
    "version": 3
   },
   "file_extension": ".py",
   "mimetype": "text/x-python",
   "name": "python",
   "nbconvert_exporter": "python",
   "pygments_lexer": "ipython3",
   "version": "3.10.1"
  },
  "orig_nbformat": 4
 },
 "nbformat": 4,
 "nbformat_minor": 2
}
