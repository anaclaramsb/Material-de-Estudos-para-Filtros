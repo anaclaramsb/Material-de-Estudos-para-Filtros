{
 "cells": [
  {
   "attachments": {},
   "cell_type": "markdown",
   "metadata": {},
   "source": [
    "## Estruturas de delay\n",
    "\n",
    "O efeito de atraso, em inglês efeito de delay, é uma das técnicas mais simples, porém extremamente valiosa quando utilizada de forma adequada. O processo de aplicação de estruturas de delay envolve pegar um sinal de áudio, armazená-lo temporariamente na memória e, em seguida, reproduzi-lo após um determinado período de tempo.\n",
    "\n",
    "Nessa subseção, serão mostradas duas estruturas de delay: o filtro \\ac{FIR} comb e o filtro \\ac{IIR} comb. O efeito Comb Filter acontece quando dois sons idênticos são reproduzidos simultaneamente, porém com um atraso entre eles. O nome \"Comb Filter\" foi dado porque, quando visualizado em um analisador de espectro, o resultado se assemelha a um pente de cabelo, comb em inglês. Esse intervalo de atraso pode abranger desde um único valor de amostra até vários milissegundos, chegando a cerca de 15ms-20ms. No entanto, uma vez que o atraso ultrapassa esse limite, o ouvido humano começa a percebê-lo como um atraso distinto.\n"
   ]
  },
  {
   "attachments": {},
   "cell_type": "markdown",
   "metadata": {},
   "source": [
    "Importaremos todas as funções apresentadas no capítulo de introdução:"
   ]
  },
  {
   "cell_type": "code",
   "execution_count": 1,
   "metadata": {},
   "outputs": [],
   "source": [
    "%run -i 1introducao.ipynb"
   ]
  },
  {
   "attachments": {},
   "cell_type": "markdown",
   "metadata": {},
   "source": [
    "##### FIR comb \n",
    "Um FIR comb, também chamado de forma feedfoward, é um filtro que simula um único atraso. A resposta temporal desse filtro consiste na combinação do sinal direto com uma versão atrasada.\n",
    "\n",
    "<center><p>\n",
    "<img src= \"https://upload.wikimedia.org/wikipedia/commons/6/68/Comb_filter_feedforward.png\" width=400px>\n",
    "</p>\n",
    "<p>\n",
    "    <font size=2><em>Figura 1 - Imagem de <a href=\"https://commons.wikimedia.org/wiki/File:Comb_filter_feedforward.png\">Wikimedia commons</a></em></font>\n",
    "</p></center>\n",
    "\n",
    "\n",
    "Dentro do filtro FIR comb, temos:\n",
    "\n",
    "- **gain**: ou frequência de corte se refere à frequência na qual o equalizador começa a afetar o sinal de áudio, seja amplificando, atenuando ou filtrando determinadas faixas de frequência.\n",
    "- **delay_length**: define se o filtro será low shelving ou high shelving.\n",
    "\n",
    "Abaixo a função que definirá nosso filtro shelving."
   ]
  },
  {
   "cell_type": "code",
   "execution_count": 2,
   "metadata": {},
   "outputs": [],
   "source": [
    "def fircomb(input_signal, gain, delay_length):\n",
    "    # inicialização do vetor de saída\n",
    "    y = [0] * len(input_signal)\n",
    "    \n",
    "    # inicialização do vetor de delay\n",
    "    delay_line = np.zeros(delay_length)\n",
    "\n",
    "    # aplicação do delay\n",
    "    for n in range(len(input_signal)):\n",
    "        y[n] = input_signal[n] + gain * delay_line[delay_length - 1]\n",
    "        delay_line[1:] = delay_line[:-1]\n",
    "        delay_line[0] = input_signal[n]\n",
    "        \n",
    "    # calcula a resposta em frequência do filtro.\n",
    "    w, h = freqz(y, input_signal, fs=44100)\n",
    "\n",
    "    return y, w, h\n"
   ]
  },
  {
   "attachments": {},
   "cell_type": "markdown",
   "metadata": {},
   "source": [
    "##### FIR comb \n",
    "Ao contrário do filtro FIR comb, como o nome diz, o filtro IIR comb produz uma série infinita de respostas para um dado sinal de entrada. Este filtro, que também pode ser chamado de forma feedback, circula o sinal de entrada em uma linha de atraso que é realimentada de volta para a entrada. A cada ciclo na linha de atraso, o sinal é atenuado por um fator de ganho $g$ através de uma amplificação intensa causada pela estrutura do filtro. Devido ao laço de realimentação, a resposta temporal do filtro é infinita. \n",
    "\n",
    "As principais diferenças entre o filtro IIR comb e o filtro FIR comb são que o ganho aumenta consideravelmente e os picos de frequência se tornam mais estreitos à medida que $|g|$ se aproxima de 1, isso mostra um filtro mais \"forte\" que o FIR comb.\n",
    "\n",
    "<center><p>\n",
    "<img src= \"https://upload.wikimedia.org/wikipedia/commons/6/68/Comb_filter_feedforward.png\" width=400px>\n",
    "</p>\n",
    "<p>\n",
    "    <font size=2><em>Figura 1 - Imagem de <a href=\"https://commons.wikimedia.org/wiki/File:Comb_filter_feedforward.png\">Wikimedia commons</a></em></font>\n",
    "</p></center>\n",
    "\n",
    "Dentro do filtro FIR comb temos as mesmas variáveis do filtro FIR comb."
   ]
  },
  {
   "cell_type": "code",
   "execution_count": 3,
   "metadata": {},
   "outputs": [],
   "source": [
    "def iircomb(input_signal, gain, delay_length):\n",
    "    # inicialização do vetor de saída\n",
    "    y = [0] * len(input_signal)\n",
    "\n",
    "    # inicialização do vetor de delay\n",
    "    delay_line = np.zeros(delay_length)\n",
    "\n",
    "    # aplicação do delay\n",
    "    for n in range(len(input_signal)):\n",
    "        y[n] = input_signal[n] + gain * delay_line[delay_length - 1]\n",
    "        delay_line[1:] = delay_line[:-1]\n",
    "        delay_line[0] = y[n]\n",
    "    \n",
    "    # calcula a resposta em frequência do filtro.\n",
    "    w, h = freqz(y, input_signal, fs=44100)\n",
    "\n",
    "    return y, w, h\n",
    "    "
   ]
  },
  {
   "attachments": {},
   "cell_type": "markdown",
   "metadata": {},
   "source": [
    "Com todas as funções dos filtros prontas, vamos aplicar o filtro.\n",
    "\n",
    "Importante notar "
   ]
  },
  {
   "cell_type": "code",
   "execution_count": 4,
   "metadata": {},
   "outputs": [
    {
     "ename": "ValueError",
     "evalue": "maximum supported dimension for an ndarray is 32, found 374502",
     "output_type": "error",
     "traceback": [
      "\u001b[1;31m---------------------------------------------------------------------------\u001b[0m",
      "\u001b[1;31mValueError\u001b[0m                                Traceback (most recent call last)",
      "\u001b[1;32mc:\\Users\\anacl\\OneDrive\\Documentos\\UFBA\\TCC\\Jupyter\\Notebooks\\5estruturas_delay.ipynb Cell 9\u001b[0m in \u001b[0;36m<cell line: 33>\u001b[1;34m()\u001b[0m\n\u001b[0;32m     <a href='vscode-notebook-cell:/c%3A/Users/anacl/OneDrive/Documentos/UFBA/TCC/Jupyter/Notebooks/5estruturas_delay.ipynb#W1sZmlsZQ%3D%3D?line=29'>30</a>\u001b[0m out3\u001b[39m.\u001b[39mclear_output()\n\u001b[0;32m     <a href='vscode-notebook-cell:/c%3A/Users/anacl/OneDrive/Documentos/UFBA/TCC/Jupyter/Notebooks/5estruturas_delay.ipynb#W1sZmlsZQ%3D%3D?line=31'>32</a>\u001b[0m \u001b[39m# roda o filtro e apresenta o widget\u001b[39;00m\n\u001b[1;32m---> <a href='vscode-notebook-cell:/c%3A/Users/anacl/OneDrive/Documentos/UFBA/TCC/Jupyter/Notebooks/5estruturas_delay.ipynb#W1sZmlsZQ%3D%3D?line=32'>33</a>\u001b[0m run_filter(\u001b[39m'\u001b[39;49m\u001b[39mbatida.wav\u001b[39;49m\u001b[39m'\u001b[39;49m, \u001b[39m'\u001b[39;49m\u001b[39mfircomb\u001b[39;49m\u001b[39m'\u001b[39;49m, \u001b[39m0.5\u001b[39;49m, \u001b[39m2000\u001b[39;49m)\n\u001b[0;32m     <a href='vscode-notebook-cell:/c%3A/Users/anacl/OneDrive/Documentos/UFBA/TCC/Jupyter/Notebooks/5estruturas_delay.ipynb#W1sZmlsZQ%3D%3D?line=33'>34</a>\u001b[0m widgets_delay()\n",
      "\u001b[1;32mc:\\Users\\anacl\\OneDrive\\Documentos\\UFBA\\TCC\\Jupyter\\Notebooks\\5estruturas_delay.ipynb Cell 9\u001b[0m in \u001b[0;36mrun_filter\u001b[1;34m(file_name, filter_function, gain, delay_length)\u001b[0m\n\u001b[0;32m      <a href='vscode-notebook-cell:/c%3A/Users/anacl/OneDrive/Documentos/UFBA/TCC/Jupyter/Notebooks/5estruturas_delay.ipynb#W1sZmlsZQ%3D%3D?line=4'>5</a>\u001b[0m \u001b[39m# aplicação do filtro FIR ou IIR\u001b[39;00m\n\u001b[0;32m      <a href='vscode-notebook-cell:/c%3A/Users/anacl/OneDrive/Documentos/UFBA/TCC/Jupyter/Notebooks/5estruturas_delay.ipynb#W1sZmlsZQ%3D%3D?line=5'>6</a>\u001b[0m \u001b[39mif\u001b[39;00m filter_function \u001b[39m==\u001b[39m \u001b[39m'\u001b[39m\u001b[39mfircomb\u001b[39m\u001b[39m'\u001b[39m:\n\u001b[1;32m----> <a href='vscode-notebook-cell:/c%3A/Users/anacl/OneDrive/Documentos/UFBA/TCC/Jupyter/Notebooks/5estruturas_delay.ipynb#W1sZmlsZQ%3D%3D?line=6'>7</a>\u001b[0m     filtered_data, w, h \u001b[39m=\u001b[39m fircomb(input_signal, gain, delay_length)\n\u001b[0;32m      <a href='vscode-notebook-cell:/c%3A/Users/anacl/OneDrive/Documentos/UFBA/TCC/Jupyter/Notebooks/5estruturas_delay.ipynb#W1sZmlsZQ%3D%3D?line=7'>8</a>\u001b[0m \u001b[39melse\u001b[39;00m:\n\u001b[0;32m      <a href='vscode-notebook-cell:/c%3A/Users/anacl/OneDrive/Documentos/UFBA/TCC/Jupyter/Notebooks/5estruturas_delay.ipynb#W1sZmlsZQ%3D%3D?line=8'>9</a>\u001b[0m     filtered_data, w, h \u001b[39m=\u001b[39m iircomb(input_signal, gain, delay_length)\n",
      "\u001b[1;32mc:\\Users\\anacl\\OneDrive\\Documentos\\UFBA\\TCC\\Jupyter\\Notebooks\\5estruturas_delay.ipynb Cell 9\u001b[0m in \u001b[0;36mfircomb\u001b[1;34m(input_signal, gain, delay_length)\u001b[0m\n\u001b[0;32m      <a href='vscode-notebook-cell:/c%3A/Users/anacl/OneDrive/Documentos/UFBA/TCC/Jupyter/Notebooks/5estruturas_delay.ipynb#W1sZmlsZQ%3D%3D?line=0'>1</a>\u001b[0m \u001b[39mdef\u001b[39;00m \u001b[39mfircomb\u001b[39m(input_signal, gain, delay_length):\n\u001b[0;32m      <a href='vscode-notebook-cell:/c%3A/Users/anacl/OneDrive/Documentos/UFBA/TCC/Jupyter/Notebooks/5estruturas_delay.ipynb#W1sZmlsZQ%3D%3D?line=1'>2</a>\u001b[0m     \u001b[39m# inicialização do vetor de saída\u001b[39;00m\n\u001b[1;32m----> <a href='vscode-notebook-cell:/c%3A/Users/anacl/OneDrive/Documentos/UFBA/TCC/Jupyter/Notebooks/5estruturas_delay.ipynb#W1sZmlsZQ%3D%3D?line=2'>3</a>\u001b[0m     y \u001b[39m=\u001b[39m np\u001b[39m.\u001b[39;49mzeros(input_signal)\n\u001b[0;32m      <a href='vscode-notebook-cell:/c%3A/Users/anacl/OneDrive/Documentos/UFBA/TCC/Jupyter/Notebooks/5estruturas_delay.ipynb#W1sZmlsZQ%3D%3D?line=4'>5</a>\u001b[0m     \u001b[39m# inicialização do vetor de delay\u001b[39;00m\n\u001b[0;32m      <a href='vscode-notebook-cell:/c%3A/Users/anacl/OneDrive/Documentos/UFBA/TCC/Jupyter/Notebooks/5estruturas_delay.ipynb#W1sZmlsZQ%3D%3D?line=5'>6</a>\u001b[0m     delay_line \u001b[39m=\u001b[39m np\u001b[39m.\u001b[39mzeros(delay_length)\n",
      "\u001b[1;31mValueError\u001b[0m: maximum supported dimension for an ndarray is 32, found 374502"
     ]
    }
   ],
   "source": [
    "\n",
    "def run_filter(file_name, filter_function, gain, delay_length):\n",
    "    # leitura do arquivo WAV\n",
    "    sample_rate, input_signal = read_audio_file(file_name)\n",
    "\n",
    "    # aplicação do filtro FIR ou IIR\n",
    "    if filter_function == 'fircomb':\n",
    "        filtered_data, w, h = fircomb(input_signal, gain, delay_length)\n",
    "    else:\n",
    "        filtered_data, w, h = iircomb(input_signal, gain, delay_length)\n",
    "\n",
    "    # plotagem da resposta em frequência do filtro\n",
    "    plot_filter(0, sample_rate, w, h)\n",
    "   \n",
    "    # escrita do áudio de saída em arquivo\n",
    "    write_audio_file(filtered_data, sample_rate, 'output_file_comb.wav')\n",
    "\n",
    "    # plotagem dos sinais de entrada e saída no domínio do tempo e da frequência\n",
    "    %matplotlib ipympl\n",
    "    plot_signal(input_signal, sample_rate, 'Sinal de Entrada')\n",
    "    plot_signal(filtered_data, sample_rate, 'Sinal de Saída')\n",
    " \n",
    "    # mostra os reprodutores de áudio do sinal de entrada e de saída\n",
    "    display_audio(file_name, 'output_file_comb.wav')\n",
    "\n",
    "\n",
    "# reseta os widgets\n",
    "clear_output()\n",
    "out1.clear_output()\n",
    "out2.clear_output()\n",
    "out3.clear_output()\n",
    "\n",
    "# roda o filtro e apresenta o widget\n",
    "run_filter('batida.wav', 'fircomb', 0.5, 2000)\n",
    "widgets_delay()\n"
   ]
  }
 ],
 "metadata": {
  "kernelspec": {
   "display_name": "myenv",
   "language": "python",
   "name": "myenv"
  },
  "language_info": {
   "codemirror_mode": {
    "name": "ipython",
    "version": 3
   },
   "file_extension": ".py",
   "mimetype": "text/x-python",
   "name": "python",
   "nbconvert_exporter": "python",
   "pygments_lexer": "ipython3",
   "version": "3.10.1"
  },
  "orig_nbformat": 4
 },
 "nbformat": 4,
 "nbformat_minor": 2
}
