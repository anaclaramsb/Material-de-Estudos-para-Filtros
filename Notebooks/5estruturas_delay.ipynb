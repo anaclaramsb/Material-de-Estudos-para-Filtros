{
 "cells": [
  {
   "attachments": {},
   "cell_type": "markdown",
   "metadata": {},
   "source": [
    "## Estruturas de delay\n",
    "\n",
    "O efeito de atraso, em inglês efeito de delay, é uma das técnicas mais simples, porém extremamente valiosa quando utilizada de forma adequada. O processo de aplicação de estruturas de delay envolve pegar um sinal de áudio, armazená-lo temporariamente na memória e, em seguida, reproduzi-lo após um determinado período de tempo.\n",
    "\n",
    "Nessa subseção, serão mostradas duas estruturas de delay: o filtro \\ac{FIR} comb e o filtro \\ac{IIR} comb. O efeito Comb Filter acontece quando dois sons idênticos são reproduzidos simultaneamente, porém com um atraso entre eles. O nome \"Comb Filter\" foi dado porque, quando visualizado em um analisador de espectro, o resultado se assemelha a um pente de cabelo, comb em inglês. Esse intervalo de atraso pode abranger desde um único valor de amostra até vários milissegundos, chegando a cerca de 15ms-20ms. No entanto, uma vez que o atraso ultrapassa esse limite, o ouvido humano começa a percebê-lo como um atraso distinto.\n"
   ]
  },
  {
   "attachments": {},
   "cell_type": "markdown",
   "metadata": {},
   "source": [
    "Importaremos todas as funções apresentadas no capítulo de introdução:"
   ]
  },
  {
   "cell_type": "code",
   "execution_count": 21,
   "metadata": {},
   "outputs": [],
   "source": [
    "%run -i 1introducao.ipynb"
   ]
  },
  {
   "attachments": {},
   "cell_type": "markdown",
   "metadata": {},
   "source": [
    "##### FIR comb \n",
    "Um FIR comb, também chamado de forma feedfoward, é um filtro que simula um único atraso. A resposta temporal desse filtro consiste na combinação do sinal direto com uma versão atrasada.\n",
    "\n",
    "<center><p>\n",
    "<img src= \"https://upload.wikimedia.org/wikipedia/commons/6/68/Comb_filter_feedforward.png\" width=400px>\n",
    "</p>\n",
    "<p>\n",
    "    <font size=2><em>Figura 1 - Imagem de <a href=\"https://commons.wikimedia.org/wiki/File:Comb_filter_feedforward.png\">Wikimedia commons</a></em></font>\n",
    "</p></center>\n",
    "\n",
    "\n",
    "Dentro do filtro FIR comb, temos:\n",
    "\n",
    "- **gain**: ou ganho de um filtro comb refere-se ao fator pelo qual os componentes de frequência são amplificados ou atenuados.\n",
    "- **delay_length**: ou largura do delay em um filtro comb refere-se à quantidade de atraso aplicada aos sinais de entrada. \n",
    "\n",
    "Abaixo a função que definirá nosso filtro shelving."
   ]
  },
  {
   "cell_type": "code",
   "execution_count": 22,
   "metadata": {},
   "outputs": [],
   "source": [
    "def fircomb(input_signal, gain, delay_length):\n",
    "    # inicialização do vetor de saída\n",
    "    y = [0] * len(input_signal)\n",
    "    \n",
    "    # inicialização do vetor de delay\n",
    "    delay_line = np.zeros(delay_length)\n",
    "\n",
    "    # aplicação do delay\n",
    "    for n in range(len(input_signal)):\n",
    "        y[n] = input_signal[n] + gain * delay_line[delay_length - 1]\n",
    "        delay_line[1:] = delay_line[:-1]\n",
    "        delay_line[0] = input_signal[n]\n",
    "        \n",
    "    # calcula a resposta em frequência do filtro.\n",
    "    w, h = freqz(y, input_signal, fs=44100)\n",
    "\n",
    "    return y, w, h\n"
   ]
  },
  {
   "attachments": {},
   "cell_type": "markdown",
   "metadata": {},
   "source": [
    "##### FIR comb \n",
    "Ao contrário do filtro FIR comb, como o nome diz, o filtro IIR comb produz uma série infinita de respostas para um dado sinal de entrada. Este filtro, que também pode ser chamado de forma feedback, circula o sinal de entrada em uma linha de atraso que é realimentada de volta para a entrada. A cada ciclo na linha de atraso, o sinal é atenuado por um fator de ganho $g$ através de uma amplificação intensa causada pela estrutura do filtro. Devido ao laço de realimentação, a resposta temporal do filtro é infinita. \n",
    "\n",
    "As principais diferenças entre o filtro IIR comb e o filtro FIR comb são que o ganho aumenta consideravelmente e os picos de frequência se tornam mais estreitos à medida que $|g|$ se aproxima de 1, isso mostra um filtro mais \"forte\" que o FIR comb.\n",
    "\n",
    "<center><p>\n",
    "<img src= \"https://upload.wikimedia.org/wikipedia/commons/6/60/Comb_filter_feedback.png\" width=400px>\n",
    "</p>\n",
    "<p>\n",
    "    <font size=2><em>Figura 1 - Imagem de <a href=\"https://commons.wikimedia.org/wiki/File:Comb_filter_feedback.png\">Wikimedia commons</a></em></font>\n",
    "</p></center>\n",
    "\n",
    "Dentro do filtro FIR comb temos as mesmas variáveis do filtro FIR comb."
   ]
  },
  {
   "cell_type": "code",
   "execution_count": 23,
   "metadata": {},
   "outputs": [],
   "source": [
    "def iircomb(input_signal, gain, delay_length):\n",
    "    # inicialização do vetor de saída\n",
    "    y = [0] * len(input_signal)\n",
    "\n",
    "    # inicialização do vetor de delay\n",
    "    delay_line = np.zeros(delay_length)\n",
    "\n",
    "    # aplicação do delay\n",
    "    for n in range(len(input_signal)):\n",
    "        y[n] = input_signal[n] + gain * delay_line[delay_length - 1]\n",
    "        delay_line[1:] = delay_line[:-1]\n",
    "        delay_line[0] = y[n]\n",
    "    \n",
    "    # calcula a resposta em frequência do filtro.\n",
    "    w, h = freqz(y, input_signal, fs=44100)\n",
    "\n",
    "    return y, w, h\n",
    "    "
   ]
  },
  {
   "attachments": {},
   "cell_type": "markdown",
   "metadata": {},
   "source": [
    "Com todas as funções dos filtros prontas, vamos aplicar o filtro.\n",
    "\n",
    "Importante notar que a partir de um tamanho de delay 1000 ou seja \n",
    "    $$Delay (ms) = (1000 / 44100) * 1000 = 22,68 ms$$\n",
    "é possível começar a perceber um \"eco\". Aqui rodamos como default uma batida em uma porta para ficar mais claro esse eco."
   ]
  },
  {
   "cell_type": "code",
   "execution_count": 24,
   "metadata": {},
   "outputs": [
    {
     "data": {
      "application/vnd.jupyter.widget-view+json": {
       "model_id": "57c911028e41405dbab0a68ab58cd099",
       "version_major": 2,
       "version_minor": 0
      },
      "text/plain": [
       "Dropdown(description='Filter type:', options=('fircomb', 'iircomb'), value='fircomb')"
      ]
     },
     "metadata": {},
     "output_type": "display_data"
    },
    {
     "data": {
      "application/vnd.jupyter.widget-view+json": {
       "model_id": "87c1bdf4c8df4bd9b55a9177e533ac75",
       "version_major": 2,
       "version_minor": 0
      },
      "text/plain": [
       "Text(value='batida.wav', continuous_update=False, description='Nome do arquivo')"
      ]
     },
     "metadata": {},
     "output_type": "display_data"
    },
    {
     "data": {
      "application/vnd.jupyter.widget-view+json": {
       "model_id": "6f1e2d88ba9a4dd1a82941b67c8ce571",
       "version_major": 2,
       "version_minor": 0
      },
      "text/plain": [
       "FloatSlider(value=0.5, continuous_update=False, description='Ganho', max=1.0, min=-1.0)"
      ]
     },
     "metadata": {},
     "output_type": "display_data"
    },
    {
     "data": {
      "application/vnd.jupyter.widget-view+json": {
       "model_id": "5d1dbab171e3407bb5cf182e84d603d8",
       "version_major": 2,
       "version_minor": 0
      },
      "text/plain": [
       "Text(value='2000', continuous_update=False, description='Tamanho do delay')"
      ]
     },
     "metadata": {},
     "output_type": "display_data"
    },
    {
     "data": {
      "application/vnd.jupyter.widget-view+json": {
       "model_id": "28ba0beadcf14065bdb657992944514d",
       "version_major": 2,
       "version_minor": 0
      },
      "text/plain": [
       "Button(button_style='success', description='Atualizar', style=ButtonStyle())"
      ]
     },
     "metadata": {},
     "output_type": "display_data"
    },
    {
     "data": {
      "application/vnd.jupyter.widget-view+json": {
       "model_id": "925c82c96b8b448ba7f5fbe40c9c1462",
       "version_major": 2,
       "version_minor": 0
      },
      "text/plain": [
       "HBox(children=(VBox(children=(Output(), Output()), layout=Layout(align_items='center', align_self='center', di…"
      ]
     },
     "metadata": {},
     "output_type": "display_data"
    }
   ],
   "source": [
    "\n",
    "def run_filter(file_name, filter_function, gain, delay_length):\n",
    "    # leitura do arquivo WAV\n",
    "    sample_rate, input_signal = read_audio_file(file_name)\n",
    "\n",
    "    # aplicação do filtro FIR ou IIR\n",
    "    if filter_function == 'fircomb':\n",
    "        filtered_data, w, h = fircomb(input_signal, gain, delay_length)\n",
    "    else:\n",
    "        filtered_data, w, h = iircomb(input_signal, gain, delay_length)\n",
    "\n",
    "    # plotagem da resposta em frequência do filtro\n",
    "    plot_filter(0, sample_rate, w, h)\n",
    "   \n",
    "    # escrita do áudio de saída em arquivo\n",
    "    write_audio_file(filtered_data, sample_rate, 'output_file_comb.wav')\n",
    "\n",
    "    # plotagem dos sinais de entrada e saída no domínio do tempo e da frequência\n",
    "    %matplotlib ipympl\n",
    "    plot_signal(input_signal, sample_rate, 'Sinal de Entrada')\n",
    "    plot_signal(filtered_data, sample_rate, 'Sinal de Saída')\n",
    " \n",
    "    # mostra os reprodutores de áudio do sinal de entrada e de saída\n",
    "    display_audio(file_name, 'output_file_comb.wav')\n",
    "\n",
    "\n",
    "# reseta os widgets\n",
    "clear_output()\n",
    "out1.clear_output()\n",
    "out2.clear_output()\n",
    "out3.clear_output()\n",
    "\n",
    "# roda o filtro e apresenta o widget\n",
    "run_filter('batida.wav', 'fircomb', 0.5, 2000)\n",
    "widgets_delay()\n"
   ]
  }
 ],
 "metadata": {
  "kernelspec": {
   "display_name": "myenv",
   "language": "python",
   "name": "myenv"
  },
  "language_info": {
   "codemirror_mode": {
    "name": "ipython",
    "version": 3
   },
   "file_extension": ".py",
   "mimetype": "text/x-python",
   "name": "python",
   "nbconvert_exporter": "python",
   "pygments_lexer": "ipython3",
   "version": "3.10.1"
  },
  "orig_nbformat": 4
 },
 "nbformat": 4,
 "nbformat_minor": 2
}
