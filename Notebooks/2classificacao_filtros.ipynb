{
 "cells": [
  {
   "attachments": {},
   "cell_type": "markdown",
   "metadata": {},
   "source": [
    "## Classificação de filtros\n",
    "\n",
    "Uma categoria significativa de sistemas LIT abrange aqueles em que a resposta em frequência é igual a um em uma faixa específica de frequências e é igual a zero nas outras frequências. Isso se refere aos filtros ideais de seleção de frequência e dentre eles, é possível citar 4 importantes categorias:\n",
    "\n",
    "- **Passa baixa** (PB ou LP) - Também conhecido como Lowpass em inglês, estes filtros selecionam frequências baixas até um um valor pré-definido $fc$ e atenuam frequências acima de $fc$.\n",
    "- **Passa alta** (PA ou HP) - Também conhecido como Highpass em inglês, estes filtros selecionam frequências acima de um valor pré-definido $fc$ e atenuam frequências abaixo desse mesmo fc.\n",
    "- **Passa-faixa** (PF ou BP) - Também conhecido como Bandpass em inglês, estes filtros selecionam frequências em um intervalo pré-definido $fcl$ e $fch$, atenuando frequências fora dessas faixas.\n",
    "- **Rejeita-faixa** (RF ou BR) - Também conhecido como Bandreject ou Bandstop em inglês, estes filtros rejeitam (atenuam) frequências em um intervalo pré-definido $fcl$ e $fch$, selecionando apenas as frequências abaixo de $fcl$ e acima de $fch$."
   ]
  },
  {
   "attachments": {},
   "cell_type": "markdown",
   "metadata": {},
   "source": [
    "Abaixo, vamos definir uma função que irá aplicar todos os filtros definidos nessa seção. \n",
    "Importaremos todas as funções apresentadas no capítulo de introdução mais as funções `butter` e `lfilter` da função SciPy."
   ]
  },
  {
   "cell_type": "code",
   "execution_count": 131,
   "metadata": {},
   "outputs": [],
   "source": [
    "%run -i 2_1introducao.ipynb\n",
    "\n",
    "from scipy.signal import butter, lfilter"
   ]
  },
  {
   "attachments": {},
   "cell_type": "markdown",
   "metadata": {},
   "source": [
    "Importante notar o uso do teorema de Nyquist, que estabelece que a taxa de amostragem deve ser pelo menos duas vezes a frequência mais alta esperada no sinal. Isso é feita para para evitar perdas de informação na conversão analógica para digital ou digital para analógica\n",
    "Nessa função $[b, a]$ são o numerador e o denominador respectivamente da função de transferência do filtro. Com essa informação usamos a função $lfilter$ que utiliza uma estrutura em __forma direta II transposta__ para aplicar o filtro. O filtro usado é o filtro Butterworth que por padrão utiliza o __modo canônico__."
   ]
  },
  {
   "cell_type": "code",
   "execution_count": 132,
   "metadata": {},
   "outputs": [],
   "source": [
    "def run_filter(filter_chose_type, cutoff_frequency_int, file_name, order, filter_function, cutoff_frequency_high = -1):\n",
    "    # leitura do arquivo WAV\n",
    "    sample_rate, input_signal = read_audio_file(file_name)\n",
    "\n",
    "    # aplicação do filtro\n",
    "    filtered_data, w, h = filter_function(input_signal, cutoff_frequency_int, sample_rate, filter_chose_type, order, cutoff_frequency_high)\n",
    "\n",
    "    plot_filter(cutoff_frequency_int, sample_rate, w, h)\n",
    "\n",
    "    write_audio_file(filtered_data, sample_rate, 'output_file_classificacao.wav')\n",
    "    %matplotlib ipympl\n",
    "    plot_signal(input_signal, sample_rate, 'Sinal de Entrada')\n",
    "    plot_signal(filtered_data, sample_rate, 'Sinal de Saída')\n",
    "\n",
    "    display_audio(file_name, 'output_file_classificacao.wav')\n"
   ]
  },
  {
   "cell_type": "code",
   "execution_count": 133,
   "metadata": {},
   "outputs": [
    {
     "data": {
      "application/vnd.jupyter.widget-view+json": {
       "model_id": "e13b93deda124b979380773f427ce30b",
       "version_major": 2,
       "version_minor": 0
      },
      "text/plain": [
       "Dropdown(description='Classe do filtro:', index=2, options=('lowpass', 'highpass', 'bandpass', 'bandstop'), st…"
      ]
     },
     "metadata": {},
     "output_type": "display_data"
    },
    {
     "data": {
      "application/vnd.jupyter.widget-view+json": {
       "model_id": "2a2305bece174e8cbcf60357e20ebc60",
       "version_major": 2,
       "version_minor": 0
      },
      "text/plain": [
       "Text(value='symphony.wav', continuous_update=False, description='Nome do arquivo:', style=DescriptionStyle(des…"
      ]
     },
     "metadata": {},
     "output_type": "display_data"
    },
    {
     "data": {
      "application/vnd.jupyter.widget-view+json": {
       "model_id": "44603c35d90b444c9254d730eca1210b",
       "version_major": 2,
       "version_minor": 0
      },
      "text/plain": [
       "BoundedIntText(value=5, description='Ordem', max=10, min=1, style=DescriptionStyle(description_width='initial'…"
      ]
     },
     "metadata": {},
     "output_type": "display_data"
    },
    {
     "data": {
      "application/vnd.jupyter.widget-view+json": {
       "model_id": "33ea1812008c4e02940f57ae04801e25",
       "version_major": 2,
       "version_minor": 0
      },
      "text/plain": [
       "IntRangeSlider(value=(3000, 17000), continuous_update=False, description='Freq. de corte:', max=22000, min=100…"
      ]
     },
     "metadata": {},
     "output_type": "display_data"
    },
    {
     "data": {
      "application/vnd.jupyter.widget-view+json": {
       "model_id": "343b3eaae9694f74a570c8ee7e809ac7",
       "version_major": 2,
       "version_minor": 0
      },
      "text/plain": [
       "Button(button_style='success', description='Atualizar', style=ButtonStyle())"
      ]
     },
     "metadata": {},
     "output_type": "display_data"
    },
    {
     "data": {
      "application/vnd.jupyter.widget-view+json": {
       "model_id": "e20a77c35a9e4b5f904c33a710e84963",
       "version_major": 2,
       "version_minor": 0
      },
      "text/plain": [
       "Output()"
      ]
     },
     "metadata": {},
     "output_type": "display_data"
    },
    {
     "data": {
      "application/vnd.jupyter.widget-view+json": {
       "model_id": "26f65ccba07b4c21b5f4b330d8692869",
       "version_major": 2,
       "version_minor": 0
      },
      "text/plain": [
       "HBox(children=(VBox(children=(Output(outputs=({'output_type': 'display_data', 'data': {'text/plain': '<Figure …"
      ]
     },
     "metadata": {},
     "output_type": "display_data"
    }
   ],
   "source": [
    "# função para aplicar o filtro canônico no sinal\n",
    "def butter_filter(data, cutoff_frequency, sample_rate, filter_class, order, cutoff_frequency_high):\n",
    "    nyq = 0.5 * sample_rate\n",
    "    if cutoff_frequency_high != -1:\n",
    "        normal_cutoff = []\n",
    "        normal_cutoff.append(cutoff_frequency/nyq)\n",
    "        normal_cutoff.append(cutoff_frequency_high/nyq)\n",
    "    else:\n",
    "        normal_cutoff = cutoff_frequency / nyq\n",
    "    b, a = butter(order, normal_cutoff, btype=filter_class, analog=False)\n",
    "    w, h = freqz(b, a)\n",
    "    filtered_data = lfilter(b, a, data) ## estrutura direta II transposta\n",
    "    return filtered_data, w, h\n",
    "\n",
    "#rodar o filtro\n",
    "clear_output()\n",
    "out1.clear_output()\n",
    "out2.clear_output()\n",
    "out3.clear_output()\n",
    "run_filter('lowpass', 3000, 'piano.wav', 5, butter_filter)\n",
    "widgets_basic_filters(butter_filter)\n"
   ]
  }
 ],
 "metadata": {
  "kernelspec": {
   "display_name": "myenv",
   "language": "python",
   "name": "myenv"
  },
  "language_info": {
   "codemirror_mode": {
    "name": "ipython",
    "version": 3
   },
   "file_extension": ".py",
   "mimetype": "text/x-python",
   "name": "python",
   "nbconvert_exporter": "python",
   "pygments_lexer": "ipython3",
   "version": "3.10.1"
  },
  "orig_nbformat": 4
 },
 "nbformat": 4,
 "nbformat_minor": 2
}
