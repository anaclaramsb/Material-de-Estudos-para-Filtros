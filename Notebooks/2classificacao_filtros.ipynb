{
 "cells": [
  {
   "attachments": {},
   "cell_type": "markdown",
   "metadata": {},
   "source": [
    "## Classificação de filtros\n",
    "\n",
    "Uma categoria significativa de sistemas LIT abrange aqueles em que a resposta em frequência é igual a um em uma faixa específica de frequências e é igual a zero nas outras frequências. Isso se refere aos filtros ideais de seleção de frequência e dentre eles, é possível citar 4 importantes categorias:\n",
    "\n",
    "- **Passa baixa** (PB ou LP) - Também conhecido como Lowpass em inglês, estes filtros selecionam frequências baixas até um um valor pré-definido $fc$ e atenuam frequências acima de $fc$.\n",
    "- **Passa alta** (PA ou HP) - Também conhecido como Highpass em inglês, estes filtros selecionam frequências acima de um valor pré-definido $fc$ e atenuam frequências abaixo desse mesmo fc.\n",
    "- **Passa-faixa** (PF ou BP) - Também conhecido como Bandpass em inglês, estes filtros selecionam frequências em um intervalo pré-definido $fcl$ e $fch$, atenuando frequências fora dessas faixas.\n",
    "- **Rejeita-faixa** (RF ou BR) - Também conhecido como Bandreject ou Bandstop em inglês, estes filtros rejeitam (atenuam) frequências em um intervalo pré-definido $fcl$ e $fch$, selecionando apenas as frequências abaixo de $fcl$ e acima de $fch$."
   ]
  },
  {
   "attachments": {},
   "cell_type": "markdown",
   "metadata": {},
   "source": [
    "Abaixo, vamos definir uma função que irá aplicar todos os filtros definidos nessa seção. \n",
    "\n",
    "Importaremos todas as funções apresentadas no capítulo de introdução mais as funções `butter` e `lfilter` da função SciPy."
   ]
  },
  {
   "cell_type": "code",
   "execution_count": 1,
   "metadata": {},
   "outputs": [],
   "source": [
    "%run -i 1introducao.ipynb\n",
    "\n",
    "from scipy.signal import butter, lfilter"
   ]
  },
  {
   "attachments": {},
   "cell_type": "markdown",
   "metadata": {},
   "source": [
    "Importante notar o uso do teorema de Nyquist, que estabelece que a taxa de amostragem deve ser pelo menos duas vezes a frequência mais alta esperada no sinal. Isso é feita para para evitar perdas de informação na conversão analógica para digital ou digital para analógica\n",
    "Nessa função $[b, a]$ são o numerador e o denominador respectivamente da função de transferência do filtro. Com essa informação usamos a função $lfilter$ que utiliza uma estrutura em __forma direta II transposta__ para aplicar o filtro. O filtro usado é o filtro Butterworth que por padrão utiliza o __modo canônico__."
   ]
  },
  {
   "cell_type": "code",
   "execution_count": 2,
   "metadata": {},
   "outputs": [],
   "source": [
    "def run_filter(filter_chose_type, cutoff_frequency_int, file_name, order, filter_function, cutoff_frequency_high = -1):\n",
    "    # leitura do arquivo WAV\n",
    "    sample_rate, input_signal = read_audio_file(file_name)\n",
    "\n",
    "    # aplicação do filtro\n",
    "    filtered_data, w, h = filter_function(input_signal, cutoff_frequency_int, sample_rate, filter_chose_type, order, cutoff_frequency_high)\n",
    "\n",
    "    # plotagem da resposta em frequência do filtro\n",
    "    plot_filter(cutoff_frequency_int, sample_rate, w, h)\n",
    "\n",
    "    # escrita do áudio de saída em arquivo\n",
    "    write_audio_file(filtered_data, sample_rate, 'output_file_classificacao.wav')\n",
    "\n",
    "    # plotagem dos sinais de entrada e saída no domínio do tempo e da frequência\n",
    "    %matplotlib ipympl\n",
    "    plot_signal(input_signal, sample_rate, 'Sinal de Entrada')\n",
    "    plot_signal(filtered_data, sample_rate, 'Sinal de Saída')\n",
    "\n",
    "    # mostra os reprodutores de áudio do sinal de entrada e de saída\n",
    "    display_audio(file_name, 'output_file_classificacao.wav')\n"
   ]
  },
  {
   "cell_type": "code",
   "execution_count": 3,
   "metadata": {},
   "outputs": [
    {
     "data": {
      "application/vnd.jupyter.widget-view+json": {
       "model_id": "b17cb004ddab49b19249434e763a4f15",
       "version_major": 2,
       "version_minor": 0
      },
      "text/plain": [
       "Dropdown(description='Classe do filtro:', options=('lowpass', 'highpass', 'bandpass', 'bandstop'), style=Descr…"
      ]
     },
     "metadata": {},
     "output_type": "display_data"
    },
    {
     "data": {
      "application/vnd.jupyter.widget-view+json": {
       "model_id": "580ad7ab94ac4d16a57a8d2f54540819",
       "version_major": 2,
       "version_minor": 0
      },
      "text/plain": [
       "Text(value='symphony.wav', continuous_update=False, description='Nome do arquivo:', style=DescriptionStyle(des…"
      ]
     },
     "metadata": {},
     "output_type": "display_data"
    },
    {
     "data": {
      "application/vnd.jupyter.widget-view+json": {
       "model_id": "f04452fb70724ec586f0d3a0267bc85b",
       "version_major": 2,
       "version_minor": 0
      },
      "text/plain": [
       "BoundedIntText(value=5, description='Ordem', max=10, min=1, style=DescriptionStyle(description_width='initial'…"
      ]
     },
     "metadata": {},
     "output_type": "display_data"
    },
    {
     "data": {
      "application/vnd.jupyter.widget-view+json": {
       "model_id": "b279f54ba43047c19938b75f864e1ffd",
       "version_major": 2,
       "version_minor": 0
      },
      "text/plain": [
       "IntSlider(value=3000, continuous_update=False, description='Freq. de corte:', max=22000, min=500, step=500, st…"
      ]
     },
     "metadata": {},
     "output_type": "display_data"
    },
    {
     "data": {
      "application/vnd.jupyter.widget-view+json": {
       "model_id": "d3f2f605b02d4917abd9f5185fd38af7",
       "version_major": 2,
       "version_minor": 0
      },
      "text/plain": [
       "Button(button_style='success', description='Atualizar', style=ButtonStyle())"
      ]
     },
     "metadata": {},
     "output_type": "display_data"
    },
    {
     "data": {
      "application/vnd.jupyter.widget-view+json": {
       "model_id": "e971ffaeac074fe4884eb7eccfa08b08",
       "version_major": 2,
       "version_minor": 0
      },
      "text/plain": [
       "HBox(children=(VBox(children=(Output(), Output()), layout=Layout(align_items='center', align_self='center', di…"
      ]
     },
     "metadata": {},
     "output_type": "display_data"
    }
   ],
   "source": [
    "# função para aplicar o filtro canônico no sinal\n",
    "def butter_filter(data, cutoff_frequency, sample_rate, filter_class, order, cutoff_frequency_high):\n",
    "    # aplicação do teorema de nyquist e normalização das frequências de corte\n",
    "    nyq = 0.5 * sample_rate\n",
    "    if cutoff_frequency_high != -1:\n",
    "        normal_cutoff = []\n",
    "        normal_cutoff.append(cutoff_frequency/nyq)\n",
    "        normal_cutoff.append(cutoff_frequency_high/nyq)\n",
    "    else:\n",
    "        normal_cutoff = cutoff_frequency / nyq\n",
    "\n",
    "    # aplicação do filtro Butterworth\n",
    "    b, a = butter(order, normal_cutoff, btype=filter_class, analog=False)\n",
    "\n",
    "    # calcula a resposta em frequência do filtro.\n",
    "    w, h = freqz(b, a)\n",
    "\n",
    "    # aplica o filtro com estrutura direta II transposta\n",
    "    filtered_data = lfilter(b, a, data) \n",
    "    return filtered_data, w, h\n",
    "\n",
    "# reseta os widgets\n",
    "clear_output()\n",
    "out1.clear_output()\n",
    "out2.clear_output()\n",
    "out3.clear_output()\n",
    "\n",
    "# roda o filtro e apresenta o widget\n",
    "run_filter('lowpass', 3000, 'piano.wav', 5, butter_filter)\n",
    "widgets_basic_filters(butter_filter)\n"
   ]
  }
 ],
 "metadata": {
  "kernelspec": {
   "display_name": "myenv",
   "language": "python",
   "name": "myenv"
  },
  "language_info": {
   "codemirror_mode": {
    "name": "ipython",
    "version": 3
   },
   "file_extension": ".py",
   "mimetype": "text/x-python",
   "name": "python",
   "nbconvert_exporter": "python",
   "pygments_lexer": "ipython3",
   "version": "3.10.1"
  },
  "orig_nbformat": 4
 },
 "nbformat": 4,
 "nbformat_minor": 2
}
