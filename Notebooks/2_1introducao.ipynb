{
 "cells": [
  {
   "attachments": {},
   "cell_type": "markdown",
   "metadata": {},
   "source": [
    "# Filtros - introdução\n",
    "\n"
   ]
  },
  {
   "attachments": {},
   "cell_type": "markdown",
   "metadata": {},
   "source": [
    "Bem vindos ao módulo de filtros! Neste material estudaremos melhor como filtros são aplicados no mundo musical de forma interativa. Todo o material é construído em Python utilizando o Jupyter Notebook. Sinta-se livre para trazer seu áudio, **apenas garantindo que este áudio esteja no formato mono e ele esteja na pasta audioFiles** (um áudio mono se refere a um tipo de áudio que é reproduzido através de um único canal de áudio. Isso significa que o som é reproduzido de maneira unidimensional, sem separação espacial entre os canais de áudio esquerdo e direito)"
   ]
  },
  {
   "attachments": {},
   "cell_type": "markdown",
   "metadata": {},
   "source": [
    "Vamos começar importando as bibliotecas que utilizaremos nesse módulo. Iremos utilizar as seguintes bibliotecas:\n",
    "\n",
    "- **NumPy**: oferece uma ampla gama de funções e operações de biblioteca que facilitam aos desenvolvedores a execução de cálculos matemáticos e científicos de maneira eficiente. Dentro deste módulo, o NumPy será utilizado para facilitar cálculos entre vetores e matrizes, bem como a geração de vetores nulos e o fácil cálculo de número absolutos.\n",
    "- **SciPy**: fornece algoritmos para otimização, integração, interpolação, problemas de autovalor, equações algébricas, equações diferenciais e estatísticas e muito mais. Nestre módulo, o SciPy será utlizado para aplicação de transformada de fourier discreta, para calcular a resposta em frequência de um filtro digital, para filtrar dados ao longo de uma dimensão com um filtro IIR ou FIR e para projetar um filtro Butterworth.\n",
    "- **IPython**: fornece um conjunto de ferramentas abrangente para ajudá-lo a aproveitar ao máximo a utilização interativa do Python (PÉREZ; GRANGER,\n",
    "2007). Aqui usaremos IPython principalmente para a reprodução do áudio original e do áudio modificaod pelos filtros.\n",
    "- **Matplotlib**: é uma biblioteca abrangente para criar visualizações estáticas, animadas e interativas em Python. Neste trabalho, serão utilizadas as funções para plotagem dos gráficos relacionados ao filtro, ao áudio de entrada e ao áudio de sáida.\n",
    "- **Ipywidgets**: ou Jupyter Widgets são widgets HTML interativos para notebooks Jupyter e o kernel IPython (IPYWIDGETS. . . , 2023). Não entraremos em muitos detalhes sobre sua implementação, mas todo código está disponível no arquivo  `widgets.ipynb `"
   ]
  },
  {
   "cell_type": "code",
   "execution_count": 21,
   "metadata": {},
   "outputs": [],
   "source": [
    "import numpy as np\n",
    "from IPython.display import Audio, display\n",
    "import matplotlib.pyplot as plt\n",
    "from scipy.fft import fft, fftfreq\n",
    "from scipy.signal import freqz\n",
    "from scipy.io import wavfile\n",
    "import scipy as scipy\n",
    "import warnings\n",
    "warnings.simplefilter(\"ignore\", category=wavfile.WavFileWarning)\n",
    "%run -i widgets.ipynb\n",
    "\n",
    "\n",
    "\n",
    "\n"
   ]
  },
  {
   "attachments": {},
   "cell_type": "markdown",
   "metadata": {},
   "source": [
    "Agora, vamos definir uma função que irá abrir o arquivo do nosso áudio e transformar ele em um sinal convertendo os dados para um array através da função $numpy$. Além disso, coletamos a taxa de amostragem do áudio."
   ]
  },
  {
   "cell_type": "code",
   "execution_count": 22,
   "metadata": {},
   "outputs": [],
   "source": [
    "def read_audio_file(path):\n",
    "    # leitura do arquivo WAV\n",
    "    sample_rate, original_signal = wavfile.read('../audioFiles/' + path)\n",
    "    return sample_rate, original_signal"
   ]
  },
  {
   "attachments": {},
   "cell_type": "markdown",
   "metadata": {},
   "source": [
    "Definiremos também uma função que plotará nossos sinais (de entrada e de saída) no domínio da frequência e no domíninio do tempo.\n",
    "\n",
    "Junto a ela, também definiremos uma função para plotar a resposta em frequência do nosso filtro. Logo em seguida, uma função para mostrar em um player os áudios de entrada e saída. As funções `@out.capture()` são utilizadas pelo widget para capturar suas repostas e apresentar nos dashboards."
   ]
  },
  {
   "cell_type": "code",
   "execution_count": 23,
   "metadata": {},
   "outputs": [],
   "source": [
    "@out1.capture()\n",
    "def plot_signal(data, sample_rate, title):\n",
    "    # domínio do tempo\n",
    "    cm = 1/2.54  # centimeters in inches\n",
    "    plt.figure(figsize=(30*cm, 10*cm))\n",
    "    plt.suptitle(title)\n",
    "\n",
    "    time = np.arange(0, len(data)) / (1 * sample_rate)\n",
    "    plt.subplot(1, 2, 1)\n",
    "    plt.plot(time, data)\n",
    "    plt.xlabel(\"Tempo (s)\")\n",
    "    plt.ylabel(\"Amplitude\")\n",
    "    plt.title(\"Sinal no domínio do tempo\")\n",
    "\n",
    "    # domínio da frequência\n",
    "    plt.subplot(1, 2, 2)\n",
    "    n = len(data)\n",
    "    yf = fft(data)\n",
    "    xf = fftfreq(n, 1 / sample_rate)[: n // 2]\n",
    "    plt.plot(xf, 2.0 / n * np.abs(yf[0 : n // 2]))\n",
    "    plt.xlabel(\"Frequência (Hz)\")\n",
    "    plt.ylabel(\"Amplitude\")\n",
    "    plt.title(\"Sinal no domínio da frequência\")\n",
    "\n",
    "    plt.tight_layout()\n",
    "    plt.show()\n",
    "\n"
   ]
  },
  {
   "cell_type": "code",
   "execution_count": 24,
   "metadata": {},
   "outputs": [],
   "source": [
    "\n",
    "@out2.capture()\n",
    "def plot_filter(cutoff_frequency, sample_rate, w, h):\n",
    "    # plotagem da resposta em frequência\n",
    "    %matplotlib inline\n",
    "    cm = 1/2.54  # centimeters in inches\n",
    "    plt.figure(figsize=(20*cm, 10*cm))\n",
    "    plt.plot(sample_rate * w / (2 * np.pi), np.abs(h), \"b\")\n",
    "    plt.axvline(cutoff_frequency, color=\"r\")\n",
    "    plt.xlabel(\"Frequência (Hz)\")\n",
    "    plt.ylabel(\"Amplitude\")\n",
    "    plt.title(\"Resposta em frequência do filtro\")\n",
    "    plt.grid(True)\n",
    "    plt.show()\n",
    "    \n",
    "@out3.capture()\n",
    "def display_audio(file_name, output_file_name):\n",
    "    print('Áudio original:')\n",
    "    display(Audio('../audioFiles/' + file_name))\n",
    "    print('Áudio alterado:')\n",
    "    display(Audio('../audioFiles/' + output_file_name)) \n"
   ]
  },
  {
   "attachments": {},
   "cell_type": "markdown",
   "metadata": {},
   "source": [
    "Por fim, definiremos uma função para transformar nosso sinal de saída do filtro em um arquivo wav de áudio."
   ]
  },
  {
   "cell_type": "code",
   "execution_count": 25,
   "metadata": {},
   "outputs": [],
   "source": [
    "def write_audio_file(output_signal, sampwidth, name):\n",
    "    filtered_signal = np.int16(output_signal / np.max(np.abs(output_signal)) * 32767)\n",
    "    wavfile.write('../audioFiles/' + name, sampwidth, filtered_signal)"
   ]
  }
 ],
 "metadata": {
  "kernelspec": {
   "display_name": "myenv",
   "language": "python",
   "name": "myenv"
  },
  "language_info": {
   "codemirror_mode": {
    "name": "ipython",
    "version": 3
   },
   "file_extension": ".py",
   "mimetype": "text/x-python",
   "name": "python",
   "nbconvert_exporter": "python",
   "pygments_lexer": "ipython3",
   "version": "3.10.1"
  },
  "orig_nbformat": 4
 },
 "nbformat": 4,
 "nbformat_minor": 2
}
