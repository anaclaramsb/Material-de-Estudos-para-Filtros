{
 "cells": [
  {
   "attachments": {},
   "cell_type": "markdown",
   "metadata": {},
   "source": [
    "## 2.4 Filtros variantes no tempo\n",
    "\n",
    "Além de afetarem as características do som no domínio da frequência, os filtros também podem ser aplicados no domínio do tempo, resultando em uma variedade de efeitos de áudio baseados em atraso. Esses efeitos simulam a acústica de diferentes espaços, proporcionando uma sensação de imersão e profundidade sonora. Dentro dessa categoria, será estudado o efeito Wah Wah\n",
    "\n",
    "#### Filtro wah\n",
    "Um dos efeitos mais populares do mundo é, sem dúvida, o Wah, ou pedal de Wah-wah. O Wah é um efeito simples: trata-se de um pedal de equalização móvel com uma grande \"varredura\" no som. Este efeito não muda a nota tocada, e sim atenua algumas frequências.\n",
    "\n",
    "<center><p>\n",
    "<img src= \"https://media.tenor.com/DojpMQLT1q8AAAAd/recording-recording-studio.gif\" width=400px>\n",
    "</p>\n",
    "<p>\n",
    "    <font size=2><em>Figura 1 - Imagem de <a href=\"https://tenor.com/pt-BR/view/recording-recording-studio-pedal-foot-pressing-gif-15326083\">Tenor</a></em></font>\n",
    "</p></center>\n"
   ]
  },
  {
   "attachments": {},
   "cell_type": "markdown",
   "metadata": {},
   "source": [
    "Importaremos todas as funções apresentadas no capítulo de introdução mais o módulo **math** próprio do Python para utilizar as funções matemáticas seno e a constante matemática π."
   ]
  },
  {
   "cell_type": "code",
   "execution_count": 17,
   "metadata": {},
   "outputs": [],
   "source": [
    "%run -i 1introducao.ipynb\n",
    "from math import  pi, sin\n"
   ]
  },
  {
   "attachments": {},
   "cell_type": "markdown",
   "metadata": {},
   "source": [
    "Para melhor entendimento da aplicação do filtro Wah, segue a explicação de algumas variáveis:\n",
    "\n",
    "- **damp**: damping (fator de amortecimento): no filtro wah-wah refere-se à quantidade de redução de amplitude aplicada à frequência central do filtro. Ele afeta a intensidade do efeito de wah-wah, controlando o quão pronunciada é a variação da frequência central à medida que o pedal wah-wah é acionado. Um damping factor alto resulta em uma redução acentuada na amplitude da frequência central, produzindo um efeito de wah-wah mais intenso. Por outro lado, um damping factor baixo resulta em uma redução mais suave na amplitude da frequência central, resultando em um efeito de wah-wah mais sutil. O damping factor é um parâmetro ajustável no pedal wah-wah, permitindo que o músico personalize o timbre e a intensidade do efeito de acordo com suas preferências musicais.\n",
    "\n",
    "- **freq_wah**: frequência Wah refere-se ao número de ciclos através de cada passa-banda. Uma Frequência Wah mais alta significa que o filtro varre a faixa de frequência mais rapidamente, resultando em um efeito \"wah\" mais rápido e pronunciado. Por outro lado, uma Frequência Wah mais baixa reduz a velocidade do movimento cíclico, produzindo um som \"wah\" mais lento e suave\n",
    "\n",
    "- **freq_min e freq_max**: frequência mínima e a frequência máxima em um filtro wah referem-se aos limites inferior e superior da faixa de frequências que são afetadas pelo efeito de variação do filtro.\n",
    "\n",
    "Abaixo a função que definirá nosso filtro Wah."
   ]
  },
  {
   "cell_type": "code",
   "execution_count": 18,
   "metadata": {},
   "outputs": [
    {
     "data": {
      "application/vnd.jupyter.widget-view+json": {
       "model_id": "3dbdff6bf109432aa9f7164997a52fe1",
       "version_major": 2,
       "version_minor": 0
      },
      "text/plain": [
       "Text(value='piano.wav', continuous_update=False, description='Nome do arquivo:', style=DescriptionStyle(descri…"
      ]
     },
     "metadata": {},
     "output_type": "display_data"
    },
    {
     "data": {
      "application/vnd.jupyter.widget-view+json": {
       "model_id": "47ba346a1321499aaf276940a72a23df",
       "version_major": 2,
       "version_minor": 0
      },
      "text/plain": [
       "IntRangeSlider(value=(300, 5000), continuous_update=False, description='Range de frequências:', max=10000, min…"
      ]
     },
     "metadata": {},
     "output_type": "display_data"
    },
    {
     "data": {
      "application/vnd.jupyter.widget-view+json": {
       "model_id": "c4ba328dd498449681a4e5d0d622a5de",
       "version_major": 2,
       "version_minor": 0
      },
      "text/plain": [
       "FloatSlider(value=0.05, continuous_update=False, description='Damping:', max=0.1, min=0.01, step=0.01, style=S…"
      ]
     },
     "metadata": {},
     "output_type": "display_data"
    },
    {
     "data": {
      "application/vnd.jupyter.widget-view+json": {
       "model_id": "0ce24ad567754356999aafd6ef557095",
       "version_major": 2,
       "version_minor": 0
      },
      "text/plain": [
       "BoundedIntText(value=10000, description='Frequência wah:', max=100000, min=100, step=100, style=DescriptionSty…"
      ]
     },
     "metadata": {},
     "output_type": "display_data"
    },
    {
     "data": {
      "application/vnd.jupyter.widget-view+json": {
       "model_id": "e405c9154ca047c080fa44bf6fec9aad",
       "version_major": 2,
       "version_minor": 0
      },
      "text/plain": [
       "Button(button_style='success', description='Atualizar', style=ButtonStyle())"
      ]
     },
     "metadata": {},
     "output_type": "display_data"
    },
    {
     "data": {
      "application/vnd.jupyter.widget-view+json": {
       "model_id": "b689f89924f8497e94954e822cd7d5a2",
       "version_major": 2,
       "version_minor": 0
      },
      "text/plain": [
       "Output()"
      ]
     },
     "metadata": {},
     "output_type": "display_data"
    },
    {
     "data": {
      "application/vnd.jupyter.widget-view+json": {
       "model_id": "0b14a03650f841f8b5d22bc531b977bf",
       "version_major": 2,
       "version_minor": 0
      },
      "text/plain": [
       "HBox(children=(VBox(children=(Output(outputs=({'output_type': 'display_data', 'data': {'text/plain': '<Figure …"
      ]
     },
     "metadata": {},
     "output_type": "display_data"
    }
   ],
   "source": [
    "\n",
    "def wah_filter(damp, freq_min, freq_max, file_name, freq_wah):\n",
    "    # leitura do arquivo WAV\n",
    "    Fs, x = read_audio_file(file_name)\n",
    "\n",
    "    # paramêtros das eq. diferenciais\n",
    "    Q1 = 2*damp\n",
    "    Fc = freq_min\n",
    "\n",
    "    F1 = 2*sin((pi*Fc)/Fs)\n",
    "\n",
    "    # inicialização do vetor de saída e do vetor auxiliar\n",
    "    y = [0] * len(x) \n",
    "    y[0] = F1*x[0]\n",
    "    y0 = F1*y[0]\n",
    "    yaux = y[1]\n",
    "\n",
    "    # cálculo frequência central por amostra \n",
    "    delta = freq_wah/Fs\n",
    "\n",
    "    # triangulação da frequência central e aplicação de eq. diferencias do filtro\n",
    "    for n in range(len(x)):\n",
    "        if n != 0:\n",
    "            if Fc + delta > freq_max or Fc + delta < freq_min:\n",
    "                delta =  -delta\n",
    "            Fc = Fc + delta;\n",
    "            F1 = 2*sin((pi*Fc)/Fs)\n",
    "            yh = x[n]-y0-Q1*yaux\n",
    "            y[n] = F1*yh+yaux\n",
    "            y0=F1*y[n]+y0\n",
    "            yaux=y[n]\n",
    "\n",
    "    # normalização do vetor de saída: Essa normalização é \n",
    "    # comumente aplicada para garantir que o sinal de áudio \n",
    "    # esteja na faixa adequada para processamento ou reprodução sonora.\n",
    "    maxy = max(np.abs(y))\n",
    "    y = y/maxy;\n",
    "\n",
    "    # calcula a resposta em frequência do filtro\n",
    "    w, h = freqz(y, x, fs=44100)\n",
    "\n",
    "    # plotagem da resposta em frequência do filtro\n",
    "    plot_filter(-1, Fs, w, h)\n",
    "   \n",
    "    # escrita do áudio de saída em arquivo\n",
    "    write_audio_file(y, Fs, 'output_file_wah.wav')\n",
    "\n",
    "    # plotagem dos sinais de entrada e saída no domínio do tempo e da frequência\n",
    "    %matplotlib ipympl\n",
    "    plot_signal(x, Fs, 'Sinal de Entrada')\n",
    "    plot_signal(y, Fs, 'Sinal de Saída')\n",
    " \n",
    "    # mostra os reprodutores de áudio do sinal de entrada e de saída\n",
    "    display_audio(file_name, 'output_file_wah.wav')\n",
    "\n",
    "    return y\n",
    "   \n",
    "# reseta os widgets\n",
    "clear_output()\n",
    "out1.clear_output()\n",
    "out2.clear_output()\n",
    "out3.clear_output()\n",
    "\n",
    "# roda o filtro e apresenta o widget\n",
    "wah_filter(0.05, 300, 5000, 'piano.wav', 2000)\n",
    "widgets_wah()\n"
   ]
  }
 ],
 "metadata": {
  "kernelspec": {
   "display_name": "myenv",
   "language": "python",
   "name": "myenv"
  },
  "language_info": {
   "codemirror_mode": {
    "name": "ipython",
    "version": 3
   },
   "file_extension": ".py",
   "mimetype": "text/x-python",
   "name": "python",
   "nbconvert_exporter": "python",
   "pygments_lexer": "ipython3",
   "version": "3.10.1"
  },
  "orig_nbformat": 4
 },
 "nbformat": 4,
 "nbformat_minor": 2
}
