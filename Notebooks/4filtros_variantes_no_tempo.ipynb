{
 "cells": [
  {
   "attachments": {},
   "cell_type": "markdown",
   "metadata": {},
   "source": [
    "## 2.4 Filtros variantes no tempo\n",
    "\n",
    "#### Filtro wah\n",
    "Um dos efeitos mais populares do mundo é, sem dúvida, o Wah, ou pedal de Wah-wah. O Wah é um efeito simples: trata-se de um pedal de equalização móvel com uma grande \"varredura\" no som. Este efeito não muda a nota tocada, e sim atenua algumas frequências.\n",
    "\n",
    "<center><p>\n",
    "<img src= \"https://media.tenor.com/DojpMQLT1q8AAAAd/recording-recording-studio.gif\" width=400px>\n",
    "</p>\n",
    "<p>\n",
    "    <font size=2><em>Figura 1 - Imagem de <a href=\"https://tenor.com/pt-BR/view/recording-recording-studio-pedal-foot-pressing-gif-15326083\">Tenor</a></em></font>\n",
    "</p></center>\n"
   ]
  },
  {
   "attachments": {},
   "cell_type": "markdown",
   "metadata": {},
   "source": [
    "Importaremos todas as funções apresentadas no capítulo de introdução mais o módulo **math** próprio do Python para utilizar as funções matemáticas seno e a constante matemática π."
   ]
  },
  {
   "cell_type": "code",
   "execution_count": 7,
   "metadata": {},
   "outputs": [],
   "source": [
    "%run -i 1introducao.ipynb\n",
    "from math import  pi, sin\n"
   ]
  },
  {
   "cell_type": "code",
   "execution_count": 8,
   "metadata": {},
   "outputs": [
    {
     "data": {
      "application/vnd.jupyter.widget-view+json": {
       "model_id": "eddf640b50d748068a1f65f92ed78fd5",
       "version_major": 2,
       "version_minor": 0
      },
      "text/plain": [
       "Text(value='piano.wav', continuous_update=False, description='Nome do arquivo:', style=DescriptionStyle(descri…"
      ]
     },
     "metadata": {},
     "output_type": "display_data"
    },
    {
     "data": {
      "application/vnd.jupyter.widget-view+json": {
       "model_id": "cc2f2a0ebbf347919930f7fda5b4b443",
       "version_major": 2,
       "version_minor": 0
      },
      "text/plain": [
       "Text(value='300', continuous_update=False, description='Freq. Mínima:', style=DescriptionStyle(description_wid…"
      ]
     },
     "metadata": {},
     "output_type": "display_data"
    },
    {
     "data": {
      "application/vnd.jupyter.widget-view+json": {
       "model_id": "3ed463ba1536476688e8eec8310766b0",
       "version_major": 2,
       "version_minor": 0
      },
      "text/plain": [
       "Text(value='5000', continuous_update=False, description='Freq. Máxima:', style=DescriptionStyle(description_wi…"
      ]
     },
     "metadata": {},
     "output_type": "display_data"
    },
    {
     "data": {
      "application/vnd.jupyter.widget-view+json": {
       "model_id": "7f26b334881f44729b80ef5cea2518f1",
       "version_major": 2,
       "version_minor": 0
      },
      "text/plain": [
       "FloatSlider(value=0.05, continuous_update=False, description='Damping:', max=1.0, step=0.05, style=SliderStyle…"
      ]
     },
     "metadata": {},
     "output_type": "display_data"
    },
    {
     "data": {
      "application/vnd.jupyter.widget-view+json": {
       "model_id": "4c979ab642b1465981c4f60af3f92b74",
       "version_major": 2,
       "version_minor": 0
      },
      "text/plain": [
       "Text(value='2000', continuous_update=False, description='Largura de banda:', style=DescriptionStyle(descriptio…"
      ]
     },
     "metadata": {},
     "output_type": "display_data"
    },
    {
     "data": {
      "application/vnd.jupyter.widget-view+json": {
       "model_id": "5a9f37c1ca2b439cbae6bf62c3e5fede",
       "version_major": 2,
       "version_minor": 0
      },
      "text/plain": [
       "Button(button_style='success', description='Atualizar', style=ButtonStyle())"
      ]
     },
     "metadata": {},
     "output_type": "display_data"
    },
    {
     "data": {
      "application/vnd.jupyter.widget-view+json": {
       "model_id": "ce3f7d9f90a149fb99b251c6ccd56819",
       "version_major": 2,
       "version_minor": 0
      },
      "text/plain": [
       "HBox(children=(VBox(children=(Output(), Output()), layout=Layout(align_items='center', align_self='center', di…"
      ]
     },
     "metadata": {},
     "output_type": "display_data"
    }
   ],
   "source": [
    "\n",
    "def wah_filter(damp, freq_min, freq_max, file_name, freq_central):\n",
    "    # leitura do arquivo WAV\n",
    "    Fs, x = read_audio_file(file_name)\n",
    "\n",
    "    # paramêtros das eq. diferenciais\n",
    "    Q1 = 2*damp\n",
    "    Fc = freq_min\n",
    "\n",
    "    F1 = 2*sin((pi*Fc)/Fs)\n",
    "\n",
    "    # inicialização do vetor de saída e do vetor auxiliar\n",
    "    y = [0] * len(x) \n",
    "    y[0] = F1*x[0]\n",
    "    y0 = F1*y[0]\n",
    "    yaux = y[1]\n",
    "\n",
    "    # cálculo frequência central por amostra\n",
    "    delta = freq_central/Fs\n",
    "\n",
    "    # triangulação da frequência central e aplicação de eq. diferencias do filtro\n",
    "    for n in range(len(x)):\n",
    "        if n != 0:\n",
    "            if Fc + delta > freq_max or Fc + delta < freq_min:\n",
    "                delta =  -delta\n",
    "            Fc = Fc + delta;\n",
    "            F1 = 2*sin((pi*Fc)/Fs)\n",
    "            yh = x[n]-y0-Q1*yaux\n",
    "            y[n] = F1*yh+yaux\n",
    "            y0=F1*y[n]+y0\n",
    "            yaux=y[n]\n",
    "\n",
    "    # normalização do vetor de saída: Essa normalização é \n",
    "    # comumente aplicada para garantir que o sinal de áudio \n",
    "    # esteja na faixa adequada para processamento ou reprodução sonora.\n",
    "    maxy = max(np.abs(y))\n",
    "    y = y/maxy;\n",
    "\n",
    "    # calcula a resposta em frequência do filtro\n",
    "    w, h = freqz(y, x, fs=44100)\n",
    "\n",
    "    # plotagem da resposta em frequência do filtro\n",
    "    plot_filter(0, Fs, w, h)\n",
    "   \n",
    "    # escrita do áudio de saída em arquivo\n",
    "    write_audio_file(y, Fs, 'output_file_wah.wav')\n",
    "\n",
    "    # plotagem dos sinais de entrada e saída no domínio do tempo e da frequência\n",
    "    %matplotlib ipympl\n",
    "    plot_signal(x, Fs, 'Sinal de Entrada')\n",
    "    plot_signal(y, Fs, 'Sinal de Saída')\n",
    " \n",
    "    # mostra os reprodutores de áudio do sinal de entrada e de saída\n",
    "    display_audio(file_name, 'output_file_wah.wav')\n",
    "\n",
    "    return y\n",
    "   \n",
    "# reseta os widgets\n",
    "clear_output()\n",
    "out1.clear_output()\n",
    "out2.clear_output()\n",
    "out3.clear_output()\n",
    "\n",
    "# roda o filtro e apresenta o widget\n",
    "wah_filter(0.05, 300, 5000, 'piano.wav', 2000)\n",
    "widgets_wah()\n"
   ]
  }
 ],
 "metadata": {
  "kernelspec": {
   "display_name": "myenv",
   "language": "python",
   "name": "myenv"
  },
  "language_info": {
   "codemirror_mode": {
    "name": "ipython",
    "version": 3
   },
   "file_extension": ".py",
   "mimetype": "text/x-python",
   "name": "python",
   "nbconvert_exporter": "python",
   "pygments_lexer": "ipython3",
   "version": "3.10.1"
  },
  "orig_nbformat": 4
 },
 "nbformat": 4,
 "nbformat_minor": 2
}
