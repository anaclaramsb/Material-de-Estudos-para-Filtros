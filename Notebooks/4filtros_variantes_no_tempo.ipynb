{
 "cells": [
  {
   "attachments": {},
   "cell_type": "markdown",
   "metadata": {},
   "source": [
    "## 2.4 Filtros variantes no tempo\n",
    "\n",
    "#### Filtro wah"
   ]
  },
  {
   "cell_type": "code",
   "execution_count": 1,
   "metadata": {},
   "outputs": [
    {
     "data": {
      "application/vnd.jupyter.widget-view+json": {
       "model_id": "272f6461e76c4163b85b1c53c98857a4",
       "version_major": 2,
       "version_minor": 0
      },
      "text/plain": [
       "Text(value='piano.wav', continuous_update=False, description='Nome do arquivo:', style=DescriptionStyle(descri…"
      ]
     },
     "metadata": {},
     "output_type": "display_data"
    },
    {
     "data": {
      "application/vnd.jupyter.widget-view+json": {
       "model_id": "b621b95f3bdc40b383cd70c7a6626b10",
       "version_major": 2,
       "version_minor": 0
      },
      "text/plain": [
       "Text(value='300', continuous_update=False, description='Freq. Mínima:', style=DescriptionStyle(description_wid…"
      ]
     },
     "metadata": {},
     "output_type": "display_data"
    },
    {
     "data": {
      "application/vnd.jupyter.widget-view+json": {
       "model_id": "17f6aea022ef49d48592459591b2a70b",
       "version_major": 2,
       "version_minor": 0
      },
      "text/plain": [
       "Text(value='5000', continuous_update=False, description='Freq. Máxima:', style=DescriptionStyle(description_wi…"
      ]
     },
     "metadata": {},
     "output_type": "display_data"
    },
    {
     "data": {
      "application/vnd.jupyter.widget-view+json": {
       "model_id": "75a65f00082e43a082ea07ce9e60c70f",
       "version_major": 2,
       "version_minor": 0
      },
      "text/plain": [
       "FloatSlider(value=0.05, continuous_update=False, description='Damping:', max=1.0, step=0.05, style=SliderStyle…"
      ]
     },
     "metadata": {},
     "output_type": "display_data"
    },
    {
     "data": {
      "application/vnd.jupyter.widget-view+json": {
       "model_id": "3b64ddf0066644858298c5f5da4427b3",
       "version_major": 2,
       "version_minor": 0
      },
      "text/plain": [
       "Text(value='2000', continuous_update=False, description='Largura de banda:', style=DescriptionStyle(descriptio…"
      ]
     },
     "metadata": {},
     "output_type": "display_data"
    },
    {
     "data": {
      "application/vnd.jupyter.widget-view+json": {
       "model_id": "41ea74ffd0f0477db0f84ce555e774a5",
       "version_major": 2,
       "version_minor": 0
      },
      "text/plain": [
       "Button(button_style='success', description='Atualizar', style=ButtonStyle())"
      ]
     },
     "metadata": {},
     "output_type": "display_data"
    },
    {
     "data": {
      "application/vnd.jupyter.widget-view+json": {
       "model_id": "44de847f09b348d8b11c0d86a0dd4026",
       "version_major": 2,
       "version_minor": 0
      },
      "text/plain": [
       "HBox(children=(VBox(children=(Output(), Output()), layout=Layout(align_items='center', align_self='center', di…"
      ]
     },
     "metadata": {},
     "output_type": "display_data"
    }
   ],
   "source": [
    "%run -i widgets.ipynb\n",
    "%run -i 2_1introducao.ipynb\n",
    "from math import tan, pi, cos, sin\n",
    "\n",
    "def wah_filter(damp,minf,maxf,file_name,Fw):\n",
    "    Fs, x = read_audio_file(file_name)\n",
    "    Q1 = 2*damp\n",
    "    Fc = minf\n",
    "    F1 = 2*sin((pi*Fc)/Fs)\n",
    "    y = [0] * len(x) \n",
    "    y[0] = F1*x[0]\n",
    "    y0 = F1*y[0]\n",
    "    yaux = y[1]\n",
    "    delta = Fw/Fs\n",
    "    for n in range(len(x)):\n",
    "        if n != 0:\n",
    "            if Fc + delta > maxf or Fc + delta < minf:\n",
    "                delta =  -delta\n",
    "            Fc = Fc + delta;\n",
    "            F1 = 2*sin((pi*Fc)/Fs)\n",
    "            yh = x[n]-y0-Q1*yaux\n",
    "            y[n] = F1*yh+yaux\n",
    "            y0=F1*y[n]+y0\n",
    "            yaux=y[n]\n",
    "    maxy = max(np.abs(y))\n",
    "    y = y/maxy;\n",
    "\n",
    "    w, h = freqz(y, x, fs=44100)\n",
    "\n",
    "    plot_filter(0, Fs, w, h)\n",
    "   \n",
    "    write_audio_file(y, Fs, 'output_file_wah.wav')\n",
    "\n",
    "    %matplotlib ipympl\n",
    "    plot_signal(x, Fs, 'Sinal de Entrada')\n",
    "    plot_signal(y, Fs, 'Sinal de Saída')\n",
    " \n",
    "\n",
    "    display_audio(file_name, 'output_file_wah.wav')\n",
    "    return y\n",
    "   \n",
    "\n",
    "\n",
    "# Carregar o arquivo de áudio\n",
    "\n",
    "damp = 0.05\n",
    "# Aplicar o efeito wah-wah\n",
    "min_freq = 300  # Frequência mínima do filtro wah-wah (Hz)\n",
    "max_freq = 5000  # Frequência máxima do filtro wah-wah (Hz)\n",
    "# wah frequency, how many Hz per second are cycled through\n",
    "Fw = 2000\n",
    "\n",
    "\n",
    "\n",
    "# Salvar o arquivo de áudio com o efeito wah-wah aplicado\n",
    "clear_output()\n",
    "out1.clear_output()\n",
    "out2.clear_output()\n",
    "out3.clear_output()\n",
    "wahwah_audio = wah_filter(damp, min_freq, max_freq, 'piano.wav', Fw)\n",
    "widgets_wah()\n"
   ]
  }
 ],
 "metadata": {
  "kernelspec": {
   "display_name": "myenv",
   "language": "python",
   "name": "myenv"
  },
  "language_info": {
   "codemirror_mode": {
    "name": "ipython",
    "version": 3
   },
   "file_extension": ".py",
   "mimetype": "text/x-python",
   "name": "python",
   "nbconvert_exporter": "python",
   "pygments_lexer": "ipython3",
   "version": "3.10.1"
  },
  "orig_nbformat": 4
 },
 "nbformat": 4,
 "nbformat_minor": 2
}
