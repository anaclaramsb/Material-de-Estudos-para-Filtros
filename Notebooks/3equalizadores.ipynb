{
 "cells": [
  {
   "attachments": {},
   "cell_type": "markdown",
   "metadata": {},
   "source": [
    "## Equalizadores\n",
    "\n",
    "Um equalizador é um dispositivo que trabalha diretamente com as frequências. Diferentemente dos filtros passa-baixa, passa-alta, passa-faixa e rejeita-faixa, que reduzem a amplitude do espectro de áudio acima ou abaixo de uma determinada frequência de corte, o equalizador molda o espectro de áudio ao realçar certas faixas de frequência enquanto deixa outras faixas inalteradas.\n",
    "\n",
    "Normalmente, o objetivo de um equalizador é melhorar a qualidade sonora em sistemas de reprodução de som, bem como aumentar o ganho acústico no caso de sistemas de reforço sonoro Antes do uso generalizado da tecnologia digital, era comum a utilização de equalizadores analógicos em telefones fixos utilizados para trunking. Nessa seção iremos demonstrar dois dos filtros equalizadores mais utilizados no mercado: o filtro shelving e o filtro peak.\n",
    "<center><p>\n",
    "<img src= \"https://homestudiobrasil.com.br/wp-content/uploads/2017/05/Screen-Shot-2017-05-16-at-5.10.33-PM.png\" width=400px>\n",
    "</p>\n",
    "<p>\n",
    "    <em>Imagem de https://homestudiobrasil.com.br/2017/05/16/equalizadores-entendendo-seu-funcionamento/</em>\n",
    "</p></center>\n"
   ]
  },
  {
   "attachments": {},
   "cell_type": "markdown",
   "metadata": {},
   "source": [
    "Importaremos todas as funções apresentadas no capítulo de introdução mais o módulo **math** próprio do Python para utilizar as funções matemáticas tangente e cosseno e a constante matemática π."
   ]
  },
  {
   "attachments": {},
   "cell_type": "markdown",
   "metadata": {},
   "source": [
    "Low Shelving - Leva junto todas as frequências abaixo da escolhida. É bastante utilizado quando o resultado que se pretende vai além de uma frequência ou região específica e pretende-se ressaltar ou atenuar todos os graves proporcionalmente.\n",
    "\n",
    "High Shelving - Leva junto todas as frequências abaixo da escolhida. É bastante utilizado quando o resultado que se pretende vai além de uma frequência ou região específica e pretende-se ressaltar ou atenuar todos os agudos proporcionalmente.\n",
    "\n",
    "paramétrico (peak) - Neste equalizador pode-se escolher a freqüência central a ser manipulada, a largura de banda (Q-bandwidth = quantidade de freqüências que se altera junto com a freqüência central) e a amplitude desta banda (ganho/atenuação).\n",
    "\n",
    "<em>Fonte: https://www.avmakers.com.br/blog/equalizador-o-que-e-e-qual-a-sua-utilidade </em>"
   ]
  },
  {
   "cell_type": "code",
   "execution_count": 28,
   "metadata": {},
   "outputs": [],
   "source": [
    "%run -i 1introducao.ipynb\n",
    "\n",
    "from math import tan, pi, cos"
   ]
  },
  {
   "cell_type": "code",
   "execution_count": 29,
   "metadata": {},
   "outputs": [],
   "source": [
    "def run_filter(cutoff_frequency_int, file_name, filter_function, gain, filter_class = 'lowpass', center_frequency = 0, bandwidth = 0):\n",
    "    # leitura do arquivo WAV\n",
    "    sample_rate, input_signal = read_audio_file(file_name)\n",
    " \n",
    "    # aplicação do teorema de nyquist e normalização das frequências de corte\n",
    "    nyq = 0.5 * sample_rate\n",
    "    normal_cutoff = cutoff_frequency_int / nyq\n",
    "    center_frequency = center_frequency / nyq\n",
    "    bandwidth = bandwidth / nyq\n",
    "\n",
    "    # aplicação do filtro shelving ou peak\n",
    "    if filter_function == 'shelving':\n",
    "        filtered_data, w, h = shelving(input_signal, normal_cutoff, gain, filter_class)\n",
    "    else:\n",
    "        filtered_data, w, h = peak(input_signal, center_frequency, bandwidth, gain)\n",
    "  \n",
    "    # plotagem da resposta em frequência do filtro\n",
    "    plot_filter(cutoff_frequency_int, sample_rate, w, h)\n",
    "   \n",
    "    # escrita do áudio de saída em arquivo\n",
    "    write_audio_file(filtered_data, sample_rate, 'output_file_equalizadores.wav')\n",
    "\n",
    "    # plotagem dos sinais de entrada e saída no domínio do tempo e da frequência\n",
    "    %matplotlib ipympl\n",
    "    plot_signal(input_signal, sample_rate, 'Sinal de Entrada')\n",
    "    plot_signal(filtered_data, sample_rate, 'Sinal de Saída')\n",
    " \n",
    "    # mostra os reprodutores de áudio do sinal de entrada e de saída\n",
    "    display_audio(file_name, 'output_file_equalizadores.wav')\n"
   ]
  },
  {
   "cell_type": "code",
   "execution_count": 30,
   "metadata": {},
   "outputs": [
    {
     "data": {
      "application/vnd.jupyter.widget-view+json": {
       "model_id": "2e0dceed504c45258d3ce980f3541f8a",
       "version_major": 2,
       "version_minor": 0
      },
      "text/plain": [
       "Dropdown(description='Classe do filtro:', options=('lowpass', 'highpass'), style=DescriptionStyle(description_…"
      ]
     },
     "metadata": {},
     "output_type": "display_data"
    },
    {
     "data": {
      "application/vnd.jupyter.widget-view+json": {
       "model_id": "21103aa4547a40a38e689497fcf5273c",
       "version_major": 2,
       "version_minor": 0
      },
      "text/plain": [
       "Dropdown(description='Tipo do filtro:', options=('shelving', 'peak'), style=DescriptionStyle(description_width…"
      ]
     },
     "metadata": {},
     "output_type": "display_data"
    },
    {
     "data": {
      "application/vnd.jupyter.widget-view+json": {
       "model_id": "f075da4ef75c49689e8f2446f1afcbaf",
       "version_major": 2,
       "version_minor": 0
      },
      "text/plain": [
       "Text(value='symphony.wav', continuous_update=False, description='Nome do arquivo:', style=DescriptionStyle(des…"
      ]
     },
     "metadata": {},
     "output_type": "display_data"
    },
    {
     "data": {
      "application/vnd.jupyter.widget-view+json": {
       "model_id": "e0ef25bc45ea4c69ae7a4f4ba652fe18",
       "version_major": 2,
       "version_minor": 0
      },
      "text/plain": [
       "BoundedIntText(value=6, description='Ganho:', max=12, min=-12, style=DescriptionStyle(description_width='initi…"
      ]
     },
     "metadata": {},
     "output_type": "display_data"
    },
    {
     "data": {
      "application/vnd.jupyter.widget-view+json": {
       "model_id": "94789e95164a41ebb0ee3762afcb70ca",
       "version_major": 2,
       "version_minor": 0
      },
      "text/plain": [
       "IntSlider(value=13000, continuous_update=False, description='Freq. de corte:', max=22000, min=1000, step=500, …"
      ]
     },
     "metadata": {},
     "output_type": "display_data"
    },
    {
     "data": {
      "application/vnd.jupyter.widget-view+json": {
       "model_id": "08af8f0b77714ab4b0681f825700f27a",
       "version_major": 2,
       "version_minor": 0
      },
      "text/plain": [
       "Button(button_style='success', description='Atualizar', style=ButtonStyle())"
      ]
     },
     "metadata": {},
     "output_type": "display_data"
    },
    {
     "data": {
      "application/vnd.jupyter.widget-view+json": {
       "model_id": "24cd9dbe99af445fbb6dd80469d3d231",
       "version_major": 2,
       "version_minor": 0
      },
      "text/plain": [
       "Output()"
      ]
     },
     "metadata": {},
     "output_type": "display_data"
    },
    {
     "data": {
      "application/vnd.jupyter.widget-view+json": {
       "model_id": "1184b4b1de0e4b759fdfe4a5c019b70b",
       "version_major": 2,
       "version_minor": 0
      },
      "text/plain": [
       "HBox(children=(VBox(children=(Output(outputs=({'output_type': 'display_data', 'data': {'text/plain': '<Figure …"
      ]
     },
     "metadata": {},
     "output_type": "display_data"
    }
   ],
   "source": [
    "\n",
    "def shelving(input_signal, normal_cutoff, gain, filter_class):\n",
    "    # inicialização do vetor de saída\n",
    "    output_signal = [0] * len(input_signal)\n",
    "\n",
    "    # paramêtros das eq. diferenciais \n",
    "    V0 = 10**(gain/20)\n",
    "    H0 = V0 - 1\n",
    "\n",
    "    # boost\n",
    "    if gain >= 0:\n",
    "        c = (tan(pi*normal_cutoff/2) - 1)/(tan(pi*normal_cutoff/2)+1)\n",
    "    # cut\n",
    "    else:\n",
    "        c = (tan(pi*normal_cutoff/2) - V0)/(tan(pi*normal_cutoff/2)+V0)\n",
    "\n",
    "    xh = 0\n",
    "\n",
    "    # aplicação de eq. diferencias do filtro\n",
    "    for n in range(len(input_signal)):\n",
    "        xh_new = input_signal[n] - c*xh\n",
    "        ap_y = c * xh_new + xh\n",
    "        xh = xh_new\n",
    "        if filter_class == 'lowpass':\n",
    "            output_signal[n] = 0.5 * H0 * (input_signal[n] + ap_y) + input_signal[n]\n",
    "        else:\n",
    "            output_signal[n] = 0.5 * H0 * (input_signal[n] - ap_y) + input_signal[n]\n",
    "\n",
    "    # calcula a resposta em frequência do filtro.\n",
    "    w, h = freqz(output_signal, input_signal, fs=44100)\n",
    "\n",
    "    return output_signal, w, h\n",
    "\n",
    "\n",
    "def peak(input_signal, center_frequency, bandwidth, gain):\n",
    "    # inicialização do vetor de saída\n",
    "    output_signal = [0] * len(input_signal) \n",
    "\n",
    "    # paramêtros das eq. diferenciais: ganho\n",
    "    V0 = 10**(gain/20)\n",
    "    H0 = V0 - 1\n",
    "\n",
    "    # boost\n",
    "    if gain >= 0:\n",
    "        c = (tan(pi*bandwidth/2) - 1)/(tan(pi*bandwidth/2)+1)\n",
    "    # cut\n",
    "    else:\n",
    "        c = (tan(pi*bandwidth/2) - V0)/(tan(pi*bandwidth/2)+V0)\n",
    "\n",
    "    # paramêtros das eq. diferenciais: centro de frequência\n",
    "    d = -cos(pi*center_frequency)\n",
    "    xh = [0,0]\n",
    "\n",
    "    # aplicação de eq. diferencias do filtro\n",
    "    for n in range(len(input_signal)):\n",
    "        xh_new = input_signal[n] - d*(1-c)*xh[0] + c*xh[1]\n",
    "        ap_y = -c * xh_new + d*(1-c)*xh[0] + xh[1]\n",
    "        xh = [xh_new, xh[0]]\n",
    "        output_signal[n] = 0.5 * H0 * (input_signal[n] - ap_y) + input_signal[n]\n",
    "\n",
    "    # calcula a resposta em frequência do filtro\n",
    "    w, h = freqz(output_signal, input_signal, fs=44100)\n",
    "\n",
    "    # calculo do centro de frequência real do sinal a partir da largura de banda\n",
    "    magnitude = np.abs(h)\n",
    "    limiar = 1\n",
    "    indices_superior = np.where(magnitude > limiar)[0]\n",
    "    indices_inferior = np.where(magnitude[::-1] > limiar)[0]\n",
    "    frequencia_superior = w[indices_superior[0]]\n",
    "    frequencia_inferior = w[::-1][indices_inferior[0]]\n",
    "    largura_banda = frequencia_superior - frequencia_inferior\n",
    "    center = largura_banda/2\n",
    "    print(\"Frequência central calculada:\", abs(center))\n",
    "\n",
    "    return output_signal, w, h\n",
    "\n",
    "\n",
    "# reseta os widgets\n",
    "clear_output()\n",
    "out1.clear_output()\n",
    "out2.clear_output()\n",
    "out3.clear_output()\n",
    "\n",
    "# roda o filtro e apresenta o widget\n",
    "run_filter(5000, 'symphony.wav', 'shelving', 6, 'lowpass')\n",
    "widgets_equalizers()"
   ]
  }
 ],
 "metadata": {
  "kernelspec": {
   "display_name": "myenv",
   "language": "python",
   "name": "myenv"
  },
  "language_info": {
   "codemirror_mode": {
    "name": "ipython",
    "version": 3
   },
   "file_extension": ".py",
   "mimetype": "text/x-python",
   "name": "python",
   "nbconvert_exporter": "python",
   "pygments_lexer": "ipython3",
   "version": "3.10.1"
  },
  "orig_nbformat": 4
 },
 "nbformat": 4,
 "nbformat_minor": 2
}
