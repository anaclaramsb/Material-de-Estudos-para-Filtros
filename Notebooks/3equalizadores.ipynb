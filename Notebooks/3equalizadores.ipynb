{
 "cells": [
  {
   "attachments": {},
   "cell_type": "markdown",
   "metadata": {},
   "source": [
    "## Equalizadores\n",
    "\n",
    "Um equalizador é um dispositivo que trabalha diretamente com as frequências. Diferentemente dos filtros passa-baixa, passa-alta, passa-faixa e rejeita-faixa, que reduzem a amplitude do espectro de áudio acima ou abaixo de uma determinada frequência de corte, o equalizador molda o espectro de áudio ao realçar certas faixas de frequência enquanto deixa outras faixas inalteradas.\n",
    "\n",
    "Normalmente, o objetivo de um equalizador é melhorar a qualidade sonora em sistemas de reprodução de som, bem como aumentar o ganho acústico no caso de sistemas de reforço sonoro Antes do uso generalizado da tecnologia digital, era comum a utilização de equalizadores analógicos em telefones fixos utilizados para trunking. Nessa seção iremos demonstrar dois dos filtros equalizadores mais utilizados no mercado: o filtro shelving e o filtro peak.\n",
    "\n",
    "<center><p>\n",
    "<img src= \"https://homestudiobrasil.com.br/wp-content/uploads/2017/05/Screen-Shot-2017-05-16-at-5.10.33-PM.png\" width=400px>\n",
    "</p>\n",
    "<p>\n",
    "    <font size=2><em>Figura 1 - Imagem de <a href=\"https://homestudiobrasil.com.br/2017/05/16/equalizadores-entendendo-seu-funcionamento/\">homestudiobrasil</a></em></font>\n",
    "</p></center>\n",
    "\n",
    "\n",
    "Para melhor entendimento da aplicação do filtro shelving, segue a explicação de alguns termos:\n",
    "\n",
    "- **gain**: ou ganho refere-se ao ajuste de amplitude aplicado a determinadas faixas de frequência. É uma medida da amplificação ou atenuação do sinal em uma faixa específica de frequências.\n",
    "- **boost**: o termo \"boost\" refere-se ao aumento do nível de determinadas frequências específicas\n",
    "- **cut**: o termo \"boost\" refere-se à redução do nível de determinadas frequências específicas"
   ]
  },
  {
   "attachments": {},
   "cell_type": "markdown",
   "metadata": {},
   "source": [
    "Importaremos todas as funções apresentadas no capítulo de introdução mais o módulo **math** próprio do Python para utilizar as funções matemáticas tangente e cosseno e a constante matemática π."
   ]
  },
  {
   "cell_type": "code",
   "execution_count": 21,
   "metadata": {},
   "outputs": [],
   "source": [
    "%run -i 1introducao.ipynb\n",
    "\n",
    "from math import tan, pi, cos"
   ]
  },
  {
   "attachments": {},
   "cell_type": "markdown",
   "metadata": {},
   "source": [
    "##### Shelving \n",
    "**Low Shelving**: Este tipo de equalizador leva consigo todas as frequências abaixo da frequência selecionada. É amplamente utilizado quando se deseja obter um resultado que vá além de uma frequência ou região específica, com o objetivo de ressaltar ou atenuar todos os **graves** de forma proporcional.\n",
    "\n",
    "<center><p>\n",
    "<img src= \"https://d2p7ncqs8iaoqd.cloudfront.net/2019/06/12165913/Low-Shelving1.gif\" width=400px>\n",
    "</p>\n",
    "<p>\n",
    "    <font size=2><em>Figura 2 - Imagem de <a href=\"https://www.avmakers.com.br/blog/equalizador-o-que-e-e-qual-a-sua-utilidade\">AvMakers</a></em></font>\n",
    "</p></center>\n",
    "\n",
    "**High Shelving**: semelhante ao Low Shelving, o High Shelving também leva consigo todas as frequências abaixo da frequência selecionada. É utilizado quando se pretende obter um resultado que vá além de uma frequência ou região específica, com o objetivo de ressaltar ou atenuar todos os **agudos** de forma proporcional.\n",
    "\n",
    "<center><p>\n",
    "<img src= \"https://d2p7ncqs8iaoqd.cloudfront.net/2019/06/12165943/Hi-Shelving1.gif\" width=400px>\n",
    "</p>\n",
    "<p>\n",
    "    <font size=2><em>Figura 3 - Imagem de <a href=\"https://www.avmakers.com.br/blog/equalizador-o-que-e-e-qual-a-sua-utilidade\">AvMakers</a></em></font>\n",
    "</p></center>\n",
    "\n",
    "\n",
    "Dentro do filtro shelving, temos:\n",
    "\n",
    "- **normal_cutoff**: ou frequência de corte se refere à frequência na qual o equalizador começa a afetar o sinal de áudio, seja amplificando, atenuando ou filtrando determinadas faixas de frequência.\n",
    "- **filter_class**: define se o filtro será low shelving ou high shelving.\n",
    "\n",
    "Abaixo a função que definirá nosso filtro shelving."
   ]
  },
  {
   "cell_type": "code",
   "execution_count": 22,
   "metadata": {},
   "outputs": [],
   "source": [
    "def shelving(input_signal, normal_cutoff, gain, filter_class):\n",
    "    # inicialização do vetor de saída\n",
    "    output_signal = [0] * len(input_signal)\n",
    "\n",
    "    # paramêtros das eq. diferenciais \n",
    "    V0 = 10**(gain/20)\n",
    "    H0 = V0 - 1\n",
    "\n",
    "    # boost\n",
    "    if gain >= 0:\n",
    "        c = (tan(pi*normal_cutoff/2) - 1)/(tan(pi*normal_cutoff/2)+1)\n",
    "    # cut\n",
    "    else:\n",
    "        c = (tan(pi*normal_cutoff/2) - V0)/(tan(pi*normal_cutoff/2)+V0)\n",
    "\n",
    "    xh = 0\n",
    "\n",
    "    # aplicação de eq. diferencias do filtro\n",
    "    for n in range(len(input_signal)):\n",
    "        xh_new = input_signal[n] - c*xh\n",
    "        ap_y = c * xh_new + xh\n",
    "        xh = xh_new\n",
    "        if filter_class == 'lowpass':\n",
    "            output_signal[n] = 0.5 * H0 * (input_signal[n] + ap_y) + input_signal[n]\n",
    "        else:\n",
    "            output_signal[n] = 0.5 * H0 * (input_signal[n] - ap_y) + input_signal[n]\n",
    "\n",
    "    # calcula a resposta em frequência do filtro.\n",
    "    w, h = freqz(output_signal, input_signal, fs=44100)\n",
    "\n",
    "    return output_signal, w, h"
   ]
  },
  {
   "attachments": {},
   "cell_type": "markdown",
   "metadata": {},
   "source": [
    "\n",
    "##### Equalizador Paramétrico (Peak) \n",
    "Neste tipo de equalizador, é possível selecionar a frequência central a ser manipulada, a largura de banda e a amplitude dessa banda (ganho/atenuação). É uma ferramenta versátil que permite ajustes mais precisos e controlados em determinadas frequências específicas.\n",
    "\n",
    "<center><p>\n",
    "<img src= \"https://d2p7ncqs8iaoqd.cloudfront.net/2019/06/12165651/Eq-Parame%CC%81trico1.gif\" width=400px>\n",
    "</p>\n",
    "<p>\n",
    "    <font size=2><em>Figura 4 - Imagem de <a href=\"https://www.avmakers.com.br/blog/equalizador-o-que-e-e-qual-a-sua-utilidade\">AvMakers</a></em></font>\n",
    "</p></center>\n",
    "\n",
    "Dentro do filtro peak, temos:\n",
    "\n",
    "- **center_frequency**: ou frequência central, refere a frequência em que o equalizador tem o seu maior efeito. É a frequência em torno da qual a banda de equalização é aplicada.\n",
    "- **bandwidth**: ou largura de banda se refere à extensão ou abrangência das frequências que serão afetadas pelo ajuste do equalizador. Também é conhecida como qualidade do filtro ou largura de banda de equalização.\n",
    "\n",
    "Abaixo a função que definirá nosso filtro peak."
   ]
  },
  {
   "cell_type": "code",
   "execution_count": 23,
   "metadata": {},
   "outputs": [],
   "source": [
    "def peak(input_signal, center_frequency, bandwidth, gain):\n",
    "    # inicialização do vetor de saída\n",
    "    output_signal = [0] * len(input_signal) \n",
    "\n",
    "    # paramêtros das eq. diferenciais: ganho\n",
    "    V0 = 10**(gain/20)\n",
    "    H0 = V0 - 1\n",
    "\n",
    "    # boost\n",
    "    if gain >= 0:\n",
    "        c = (tan(pi*bandwidth/2) - 1)/(tan(pi*bandwidth/2)+1)\n",
    "    # cut\n",
    "    else:\n",
    "        c = (tan(pi*bandwidth/2) - V0)/(tan(pi*bandwidth/2)+V0)\n",
    "\n",
    "    # paramêtros das eq. diferenciais: centro de frequência\n",
    "    d = -cos(pi*center_frequency)\n",
    "    xh = [0,0]\n",
    "\n",
    "    # aplicação de eq. diferencias do filtro\n",
    "    for n in range(len(input_signal)):\n",
    "        xh_new = input_signal[n] - d*(1-c)*xh[0] + c*xh[1]\n",
    "        ap_y = -c * xh_new + d*(1-c)*xh[0] + xh[1]\n",
    "        xh = [xh_new, xh[0]]\n",
    "        output_signal[n] = 0.5 * H0 * (input_signal[n] - ap_y) + input_signal[n]\n",
    "\n",
    "    # calcula a resposta em frequência do filtro\n",
    "    w, h = freqz(output_signal, input_signal, fs=44100)\n",
    "\n",
    "    # calculo do centro de frequência real do sinal a partir da largura de banda\n",
    "    magnitude = np.abs(h)\n",
    "    limiar = 1\n",
    "    indices_superior = np.where(magnitude > limiar)[0]\n",
    "    indices_inferior = np.where(magnitude[::-1] > limiar)[0]\n",
    "    frequencia_superior = w[indices_superior[0]]\n",
    "    frequencia_inferior = w[::-1][indices_inferior[0]]\n",
    "    largura_banda = frequencia_superior - frequencia_inferior\n",
    "    center = largura_banda/2\n",
    "    print(\"Frequência central calculada:\", abs(center))\n",
    "\n",
    "    return output_signal, w, h"
   ]
  },
  {
   "attachments": {},
   "cell_type": "markdown",
   "metadata": {},
   "source": [
    "Com todas as funções dos filtros prontas, vamos aplicar o filtro:"
   ]
  },
  {
   "cell_type": "code",
   "execution_count": 24,
   "metadata": {},
   "outputs": [
    {
     "data": {
      "application/vnd.jupyter.widget-view+json": {
       "model_id": "5a850539255e44b68208219e99c184b4",
       "version_major": 2,
       "version_minor": 0
      },
      "text/plain": [
       "Dropdown(description='Classe do filtro:', options=('lowpass', 'highpass'), style=DescriptionStyle(description_…"
      ]
     },
     "metadata": {},
     "output_type": "display_data"
    },
    {
     "data": {
      "application/vnd.jupyter.widget-view+json": {
       "model_id": "bd17e019f8724e73a9744b0c5f273e40",
       "version_major": 2,
       "version_minor": 0
      },
      "text/plain": [
       "Dropdown(description='Tipo do filtro:', options=('shelving', 'peak'), style=DescriptionStyle(description_width…"
      ]
     },
     "metadata": {},
     "output_type": "display_data"
    },
    {
     "data": {
      "application/vnd.jupyter.widget-view+json": {
       "model_id": "8eb0e17587694a3789e0e9366d81497d",
       "version_major": 2,
       "version_minor": 0
      },
      "text/plain": [
       "Text(value='symphony.wav', continuous_update=False, description='Nome do arquivo:', style=DescriptionStyle(des…"
      ]
     },
     "metadata": {},
     "output_type": "display_data"
    },
    {
     "data": {
      "application/vnd.jupyter.widget-view+json": {
       "model_id": "ce2372f45782423aaefad7fe3ccb6aa8",
       "version_major": 2,
       "version_minor": 0
      },
      "text/plain": [
       "BoundedIntText(value=6, description='Ganho:', max=12, min=-12, style=DescriptionStyle(description_width='initi…"
      ]
     },
     "metadata": {},
     "output_type": "display_data"
    },
    {
     "data": {
      "application/vnd.jupyter.widget-view+json": {
       "model_id": "b4ee3494371b46cc99cdcbf7d2ce09f3",
       "version_major": 2,
       "version_minor": 0
      },
      "text/plain": [
       "IntSlider(value=3000, continuous_update=False, description='Freq. de corte:', max=22000, min=500, step=500, st…"
      ]
     },
     "metadata": {},
     "output_type": "display_data"
    },
    {
     "data": {
      "application/vnd.jupyter.widget-view+json": {
       "model_id": "1db59e1ce01f4175bf2216d19aee2199",
       "version_major": 2,
       "version_minor": 0
      },
      "text/plain": [
       "Button(button_style='success', description='Atualizar', style=ButtonStyle())"
      ]
     },
     "metadata": {},
     "output_type": "display_data"
    },
    {
     "data": {
      "application/vnd.jupyter.widget-view+json": {
       "model_id": "42bee13b78d542fca9ca4cf7619359a9",
       "version_major": 2,
       "version_minor": 0
      },
      "text/plain": [
       "HBox(children=(VBox(children=(Output(), Output()), layout=Layout(align_items='center', align_self='center', di…"
      ]
     },
     "metadata": {},
     "output_type": "display_data"
    }
   ],
   "source": [
    "def run_filter(cutoff_frequency_int, file_name, filter_function, gain, filter_class = 'lowpass', center_frequency = 0, bandwidth = 0):\n",
    "    # leitura do arquivo WAV\n",
    "    sample_rate, input_signal = read_audio_file(file_name)\n",
    " \n",
    "    # aplicação do teorema de nyquist e normalização das frequências de corte\n",
    "    nyq = 0.5 * sample_rate\n",
    "    normal_cutoff = cutoff_frequency_int / nyq\n",
    "    center_frequency = center_frequency / nyq\n",
    "    bandwidth = bandwidth / nyq\n",
    "\n",
    "    # aplicação do filtro shelving ou peak\n",
    "    if filter_function == 'shelving':\n",
    "        filtered_data, w, h = shelving(input_signal, normal_cutoff, gain, filter_class)\n",
    "    else:\n",
    "        filtered_data, w, h = peak(input_signal, center_frequency, bandwidth, gain)\n",
    "  \n",
    "    # plotagem da resposta em frequência do filtro\n",
    "    plot_filter(cutoff_frequency_int, sample_rate, w, h)\n",
    "   \n",
    "    # escrita do áudio de saída em arquivo\n",
    "    write_audio_file(filtered_data, sample_rate, 'output_file_equalizadores.wav')\n",
    "\n",
    "    # plotagem dos sinais de entrada e saída no domínio do tempo e da frequência\n",
    "    %matplotlib ipympl\n",
    "    plot_signal(input_signal, sample_rate, 'Sinal de Entrada')\n",
    "    plot_signal(filtered_data, sample_rate, 'Sinal de Saída')\n",
    " \n",
    "    # mostra os reprodutores de áudio do sinal de entrada e de saída\n",
    "    display_audio(file_name, 'output_file_equalizadores.wav')\n",
    "\n",
    "# reseta os widgets\n",
    "clear_output()\n",
    "out1.clear_output()\n",
    "out2.clear_output()\n",
    "out3.clear_output()\n",
    "\n",
    "# roda o filtro e apresenta o widget\n",
    "run_filter(5000, 'symphony.wav', 'shelving', 6, 'lowpass')\n",
    "widgets_equalizers()\n"
   ]
  }
 ],
 "metadata": {
  "kernelspec": {
   "display_name": "myenv",
   "language": "python",
   "name": "myenv"
  },
  "language_info": {
   "codemirror_mode": {
    "name": "ipython",
    "version": 3
   },
   "file_extension": ".py",
   "mimetype": "text/x-python",
   "name": "python",
   "nbconvert_exporter": "python",
   "pygments_lexer": "ipython3",
   "version": "3.10.1"
  },
  "orig_nbformat": 4
 },
 "nbformat": 4,
 "nbformat_minor": 2
}
