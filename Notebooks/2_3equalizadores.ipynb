{
 "cells": [
  {
   "attachments": {},
   "cell_type": "markdown",
   "metadata": {},
   "source": [
    "## Equalizadores\n",
    "\n",
    "lorem ipsum dor sit amet"
   ]
  },
  {
   "cell_type": "code",
   "execution_count": 10,
   "metadata": {},
   "outputs": [],
   "source": [
    "%run -i 2_1introducao.ipynb\n",
    "\n",
    "from math import tan, pi, cos"
   ]
  },
  {
   "cell_type": "code",
   "execution_count": 11,
   "metadata": {},
   "outputs": [],
   "source": [
    "def run_filter(cutoff_frequency_int, file_name, filter_function, gain, filter_class = 'lowpass', center_frequency = 0, bandwidth = 0):\n",
    "    # leitura do arquivo WAV\n",
    "    sample_rate, input_signal = read_audio_file(file_name)\n",
    "    # aplicação do filtro\n",
    "\n",
    "    nyq = 0.5 * sample_rate\n",
    "    normal_cutoff = cutoff_frequency_int / nyq\n",
    "    center_frequency = center_frequency / nyq\n",
    "    bandwidth = bandwidth / nyq\n",
    "\n",
    "    if filter_function == 'shelving':\n",
    "        filtered_data, w, h = shelving(input_signal, normal_cutoff, gain, filter_class)\n",
    "    else:\n",
    "        filtered_data, w, h = peak(input_signal, center_frequency, bandwidth, gain, filter_class)\n",
    "  \n",
    "    plot_filter(cutoff_frequency_int, sample_rate, w, h)\n",
    "   \n",
    "    write_audio_file(filtered_data, sample_rate, 'output_file_equalizadores.wav')\n",
    "\n",
    "    %matplotlib ipympl\n",
    "    plot_signal(input_signal, sample_rate, 'Sinal de Entrada')\n",
    "    plot_signal(filtered_data, sample_rate, 'Sinal de Saída')\n",
    " \n",
    "\n",
    "    display_audio(file_name, 'output_file_equalizadores.wav')\n"
   ]
  },
  {
   "cell_type": "code",
   "execution_count": 12,
   "metadata": {},
   "outputs": [
    {
     "data": {
      "application/vnd.jupyter.widget-view+json": {
       "model_id": "90d8331c1745429589139d2c48ef6657",
       "version_major": 2,
       "version_minor": 0
      },
      "text/plain": [
       "Dropdown(description='Filter class:', index=1, options=('lowpass', 'highpass'), value='highpass')"
      ]
     },
     "metadata": {},
     "output_type": "display_data"
    },
    {
     "data": {
      "application/vnd.jupyter.widget-view+json": {
       "model_id": "bf21ed497c0743a285f4e496b4d1f389",
       "version_major": 2,
       "version_minor": 0
      },
      "text/plain": [
       "Dropdown(description='Filter type:', options=('shelving', 'peak'), value='shelving')"
      ]
     },
     "metadata": {},
     "output_type": "display_data"
    },
    {
     "data": {
      "application/vnd.jupyter.widget-view+json": {
       "model_id": "341606d2902949b6a363b4097ac828ee",
       "version_major": 2,
       "version_minor": 0
      },
      "text/plain": [
       "Text(value='symphony.wav', continuous_update=False, description='File name')"
      ]
     },
     "metadata": {},
     "output_type": "display_data"
    },
    {
     "data": {
      "application/vnd.jupyter.widget-view+json": {
       "model_id": "9d98b7fd7ef1475d8fac08e1235694e4",
       "version_major": 2,
       "version_minor": 0
      },
      "text/plain": [
       "Text(value='6', continuous_update=False, description='Gain')"
      ]
     },
     "metadata": {},
     "output_type": "display_data"
    },
    {
     "data": {
      "application/vnd.jupyter.widget-view+json": {
       "model_id": "a5b220445be24a7eb0b5f67007ef48b2",
       "version_major": 2,
       "version_minor": 0
      },
      "text/plain": [
       "Button(button_style='success', description='Atualizar', style=ButtonStyle())"
      ]
     },
     "metadata": {},
     "output_type": "display_data"
    },
    {
     "data": {
      "application/vnd.jupyter.widget-view+json": {
       "model_id": "3426aa5a6ce54231b7d0d48dc878edd8",
       "version_major": 2,
       "version_minor": 0
      },
      "text/plain": [
       "Text(value='5000', continuous_update=False, description='Cutoff frequency')"
      ]
     },
     "metadata": {},
     "output_type": "display_data"
    },
    {
     "data": {
      "application/vnd.jupyter.widget-view+json": {
       "model_id": "a5b220445be24a7eb0b5f67007ef48b2",
       "version_major": 2,
       "version_minor": 0
      },
      "text/plain": [
       "Button(button_style='success', description='Atualizar', style=ButtonStyle())"
      ]
     },
     "metadata": {},
     "output_type": "display_data"
    },
    {
     "data": {
      "application/vnd.jupyter.widget-view+json": {
       "model_id": "12e6e4451c8241f1bc5ab65f317530a0",
       "version_major": 2,
       "version_minor": 0
      },
      "text/plain": [
       "HBox(children=(VBox(children=(Output(outputs=({'output_type': 'display_data', 'data': {'text/plain': \"Canvas(t…"
      ]
     },
     "metadata": {},
     "output_type": "display_data"
    }
   ],
   "source": [
    "\n",
    "def shelving(input_signal, normal_cutoff, gain, filter_class):\n",
    "    output_signal = [0] * len(input_signal)\n",
    "    V0 = 10**(gain/20)\n",
    "    H0 = V0 - 1\n",
    "    if gain >= 0:\n",
    "        c = (tan(pi*normal_cutoff/2) - 1)/(tan(pi*normal_cutoff/2)+1)\n",
    "    else:\n",
    "        c = (tan(pi*normal_cutoff/2) - V0)/(tan(pi*normal_cutoff/2)+V0)\n",
    "    xh = 0\n",
    "    for n in range(len(input_signal)):\n",
    "        xh_new = input_signal[n] - c*xh\n",
    "        ap_y = c * xh_new + xh\n",
    "        xh = xh_new\n",
    "        if filter_class == 'lowpass':\n",
    "            output_signal[n] = 0.5 * H0 * (input_signal[n] + ap_y) + input_signal[n]\n",
    "        else:\n",
    "            output_signal[n] = 0.5 * H0 * (input_signal[n] - ap_y) + input_signal[n]\n",
    "    w, h = freqz(output_signal, input_signal, fs=44100)\n",
    "\n",
    "    return output_signal, w, h\n",
    "\n",
    "\n",
    "def peak(input_signal, center_frequency, bandwidth, gain, filter_class):\n",
    "    output_signal = [0] * len(input_signal) \n",
    "    V0 = 10**(gain/20)\n",
    "    H0 = V0 - 1\n",
    "    if gain >= 0:\n",
    "        c = (tan(pi*bandwidth/2) - 1)/(tan(pi*bandwidth/2)+1)\n",
    "    else:\n",
    "        c = (tan(pi*bandwidth/2) - V0)/(tan(pi*bandwidth/2)+V0)\n",
    "    d = -cos(pi*center_frequency)\n",
    "    xh = [0,0]\n",
    "    for n in range(len(input_signal)):\n",
    "        xh_new = input_signal[n] - d*(1-c)*xh[0] + c*xh[1]\n",
    "        ap_y = -c * xh_new + d*(1-c)*xh[0] + xh[1]\n",
    "        xh = [xh_new, xh[0]]\n",
    "        if filter_class == 'lowpass':\n",
    "            output_signal[n] = 0.5 * H0 * (input_signal[n] + ap_y) + input_signal[n]\n",
    "        else:\n",
    "            output_signal[n] = 0.5 * H0 * (input_signal[n] - ap_y) + input_signal[n]\n",
    "    w, h = freqz(output_signal, input_signal, fs=44100)\n",
    "    magnitude = np.abs(h)\n",
    "    limiar = 1\n",
    "    indices_superior = np.where(magnitude > limiar)[0]\n",
    "    indices_inferior = np.where(magnitude[::-1] > limiar)[0]\n",
    "    frequencia_superior = w[indices_superior[0]]\n",
    "    frequencia_inferior = w[::-1][indices_inferior[0]]\n",
    "    largura_banda = frequencia_superior - frequencia_inferior\n",
    "    center = largura_banda/2\n",
    "    print(\"center frequency:\", abs(center))\n",
    "    return output_signal, w, h\n",
    "\n",
    "\n",
    "#rodar o filtro\n",
    "clear_output()\n",
    "out1.clear_output()\n",
    "out2.clear_output()\n",
    "out3.clear_output()\n",
    "run_filter(5000, 'symphony.wav', 'shelving', 6, 'lowpass')\n",
    "widgets_equalizers()"
   ]
  }
 ],
 "metadata": {
  "kernelspec": {
   "display_name": "myenv",
   "language": "python",
   "name": "myenv"
  },
  "language_info": {
   "codemirror_mode": {
    "name": "ipython",
    "version": 3
   },
   "file_extension": ".py",
   "mimetype": "text/x-python",
   "name": "python",
   "nbconvert_exporter": "python",
   "pygments_lexer": "ipython3",
   "version": "3.10.1"
  },
  "orig_nbformat": 4
 },
 "nbformat": 4,
 "nbformat_minor": 2
}
