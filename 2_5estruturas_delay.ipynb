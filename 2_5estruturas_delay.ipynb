{
 "cells": [
  {
   "attachments": {},
   "cell_type": "markdown",
   "metadata": {},
   "source": [
    "## 2.5 Estruturas de delay\n",
    "\n",
    "#### FIR comb, IIR comb, universal (?), Natural sounding comb filter(?)"
   ]
  },
  {
   "cell_type": "code",
   "execution_count": 1,
   "metadata": {},
   "outputs": [],
   "source": [
    "%run -i widgets.ipynb\n",
    "%run -i 2_1introducao.ipynb\n",
    "from math import tan, pi, cos, sin\n",
    "\n",
    "def run_filter(file_name, filter_function, gain, delay_length):\n",
    "    # leitura do arquivo WAV\n",
    "    sample_rate, input_signal = read_audio_file(file_name)\n",
    "    # aplicação do filtro\n",
    "    if filter_function == 'fircomb':\n",
    "        filtered_data, w, h = fircomb(input_signal, gain, delay_length)\n",
    "    else:\n",
    "        filtered_data, w, h = iircomb(input_signal, gain, delay_length)\n",
    "\n",
    "    plot_filter(0, sample_rate, w, h)\n",
    "   \n",
    "    write_audio_file(filtered_data, sample_rate, 'output_file_comb.wav')\n",
    "    plot_signal(input_signal, sample_rate, 'Sinal de Entrada')\n",
    "    plot_signal(filtered_data, sample_rate, 'Sinal de Saída')\n",
    " \n",
    "\n",
    "    display_audio(file_name, 'output_file_comb.wav')\n"
   ]
  },
  {
   "cell_type": "code",
   "execution_count": 2,
   "metadata": {},
   "outputs": [
    {
     "data": {
      "application/vnd.jupyter.widget-view+json": {
       "model_id": "5acefee88f8e4d2f98559d08077465f4",
       "version_major": 2,
       "version_minor": 0
      },
      "text/plain": [
       "Dropdown(description='Filter type:', options=('fircomb', 'iircomb'), value='fircomb')"
      ]
     },
     "metadata": {},
     "output_type": "display_data"
    },
    {
     "data": {
      "application/vnd.jupyter.widget-view+json": {
       "model_id": "3595eefffb8943b4a6b91da51226ed2f",
       "version_major": 2,
       "version_minor": 0
      },
      "text/plain": [
       "Text(value='batida.wav', continuous_update=False, description='Nome do arquivo')"
      ]
     },
     "metadata": {},
     "output_type": "display_data"
    },
    {
     "data": {
      "application/vnd.jupyter.widget-view+json": {
       "model_id": "760beadefac147bf84d9cb15edc1a02e",
       "version_major": 2,
       "version_minor": 0
      },
      "text/plain": [
       "Text(value='0.5', continuous_update=False, description='Ganho')"
      ]
     },
     "metadata": {},
     "output_type": "display_data"
    },
    {
     "data": {
      "application/vnd.jupyter.widget-view+json": {
       "model_id": "c722832547294936a5827dd380b2ca34",
       "version_major": 2,
       "version_minor": 0
      },
      "text/plain": [
       "Text(value='4000', continuous_update=False, description='Tamanho do delay')"
      ]
     },
     "metadata": {},
     "output_type": "display_data"
    },
    {
     "data": {
      "application/vnd.jupyter.widget-view+json": {
       "model_id": "4c8227f044654e37aa5d57aeac05f901",
       "version_major": 2,
       "version_minor": 0
      },
      "text/plain": [
       "HBox(children=(VBox(children=(Output(), Output()), layout=Layout(align_items='center', display='flex', flex_fl…"
      ]
     },
     "metadata": {},
     "output_type": "display_data"
    }
   ],
   "source": [
    "\n",
    "def fircomb(input_signal, gain, delay_length):\n",
    "    y = [0] * len(input_signal)\n",
    "    x = input_signal\n",
    "    g = gain\n",
    "    delay_line = np.zeros(delay_length)\n",
    "    for n in range(len(input_signal)):\n",
    "        y[n] = x[n] + g * delay_line[delay_length - 1]\n",
    "        delay_line[1:] = delay_line[:-1]\n",
    "        delay_line[0] = x[n]\n",
    "    w, h = freqz(y, input_signal, fs=44100)\n",
    "\n",
    "    return y, w, h\n",
    "\n",
    "def iircomb(input_signal, gain, delay_length):\n",
    "    y = [0] * len(input_signal)\n",
    "    x = input_signal\n",
    "    g = gain\n",
    "    delay_line = np.zeros(delay_length)\n",
    "    for n in range(len(input_signal)):\n",
    "        y[n] = x[n] + g * delay_line[delay_length - 1]\n",
    "        delay_line[1:] = delay_line[:-1]\n",
    "        delay_line[0] = y[n]\n",
    "    w, h = freqz(y, input_signal, fs=44100)\n",
    "\n",
    "    return y, w, h\n",
    "    \n",
    "\n",
    "#rodar o filtro\n",
    "clear_output()\n",
    "out1.clear_output()\n",
    "out2.clear_output()\n",
    "out3.clear_output()\n",
    "run_filter('batida.wav', 'fircomb', 0.5, 4000)\n",
    "widgets_delay()"
   ]
  }
 ],
 "metadata": {
  "kernelspec": {
   "display_name": "myenv",
   "language": "python",
   "name": "myenv"
  },
  "language_info": {
   "codemirror_mode": {
    "name": "ipython",
    "version": 3
   },
   "file_extension": ".py",
   "mimetype": "text/x-python",
   "name": "python",
   "nbconvert_exporter": "python",
   "pygments_lexer": "ipython3",
   "version": "3.10.1"
  },
  "orig_nbformat": 4
 },
 "nbformat": 4,
 "nbformat_minor": 2
}
